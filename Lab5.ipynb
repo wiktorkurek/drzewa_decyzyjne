{
 "cells": [
  {
   "cell_type": "markdown",
   "metadata": {},
   "source": [
    "## LAB 5 - Dawid Stachowiak, Wiktor Kurek "
   ]
  },
  {
   "cell_type": "code",
   "execution_count": 41,
   "metadata": {},
   "outputs": [],
   "source": [
    "import numpy as np\n",
    "import pandas as pd"
   ]
  },
  {
   "cell_type": "markdown",
   "metadata": {},
   "source": [
    "### Zadanie 1"
   ]
  },
  {
   "cell_type": "code",
   "execution_count": 51,
   "metadata": {},
   "outputs": [],
   "source": [
    "X_train = np.loadtxt(\"D:/Studia/Semestr VI/Drzewa_decyzyjne/hapt/Train/X_train.txt\")\n",
    "y_train = np.loadtxt(\"D:/Studia/Semestr VI/Drzewa_decyzyjne/hapt/Train/y_train.txt\")\n",
    "\n",
    "X_test = np.loadtxt(\"D:/Studia/Semestr VI/Drzewa_decyzyjne/hapt/Test/X_test.txt\")\n",
    "y_test = np.loadtxt(\"D:/Studia/Semestr VI/Drzewa_decyzyjne/hapt/Test/y_test.txt\")\n",
    "\n",
    "X_train = pd.DataFrame(X_train)\n",
    "y_train = pd.DataFrame(y_train)\n",
    "X_test = pd.DataFrame(X_test)\n",
    "y_test = pd.DataFrame(y_test)"
   ]
  },
  {
   "cell_type": "code",
   "execution_count": 52,
   "metadata": {},
   "outputs": [
    {
     "data": {
      "text/html": [
       "<div>\n",
       "<style scoped>\n",
       "    .dataframe tbody tr th:only-of-type {\n",
       "        vertical-align: middle;\n",
       "    }\n",
       "\n",
       "    .dataframe tbody tr th {\n",
       "        vertical-align: top;\n",
       "    }\n",
       "\n",
       "    .dataframe thead th {\n",
       "        text-align: right;\n",
       "    }\n",
       "</style>\n",
       "<table border=\"1\" class=\"dataframe\">\n",
       "  <thead>\n",
       "    <tr style=\"text-align: right;\">\n",
       "      <th></th>\n",
       "      <th>0</th>\n",
       "      <th>1</th>\n",
       "      <th>2</th>\n",
       "      <th>3</th>\n",
       "      <th>4</th>\n",
       "      <th>5</th>\n",
       "      <th>6</th>\n",
       "      <th>7</th>\n",
       "      <th>8</th>\n",
       "      <th>9</th>\n",
       "      <th>...</th>\n",
       "      <th>551</th>\n",
       "      <th>552</th>\n",
       "      <th>553</th>\n",
       "      <th>554</th>\n",
       "      <th>555</th>\n",
       "      <th>556</th>\n",
       "      <th>557</th>\n",
       "      <th>558</th>\n",
       "      <th>559</th>\n",
       "      <th>560</th>\n",
       "    </tr>\n",
       "  </thead>\n",
       "  <tbody>\n",
       "    <tr>\n",
       "      <th>0</th>\n",
       "      <td>0.043580</td>\n",
       "      <td>-0.005970</td>\n",
       "      <td>-0.035054</td>\n",
       "      <td>-0.995381</td>\n",
       "      <td>-0.988366</td>\n",
       "      <td>-0.937382</td>\n",
       "      <td>-0.995007</td>\n",
       "      <td>-0.988816</td>\n",
       "      <td>-0.953325</td>\n",
       "      <td>-0.794796</td>\n",
       "      <td>...</td>\n",
       "      <td>-0.012236</td>\n",
       "      <td>-0.314848</td>\n",
       "      <td>-0.713308</td>\n",
       "      <td>-0.112754</td>\n",
       "      <td>0.030400</td>\n",
       "      <td>-0.464761</td>\n",
       "      <td>-0.018446</td>\n",
       "      <td>-0.841559</td>\n",
       "      <td>0.179913</td>\n",
       "      <td>-0.051718</td>\n",
       "    </tr>\n",
       "    <tr>\n",
       "      <th>1</th>\n",
       "      <td>0.039480</td>\n",
       "      <td>-0.002131</td>\n",
       "      <td>-0.029067</td>\n",
       "      <td>-0.998348</td>\n",
       "      <td>-0.982945</td>\n",
       "      <td>-0.971273</td>\n",
       "      <td>-0.998702</td>\n",
       "      <td>-0.983315</td>\n",
       "      <td>-0.974000</td>\n",
       "      <td>-0.802537</td>\n",
       "      <td>...</td>\n",
       "      <td>0.202804</td>\n",
       "      <td>-0.603199</td>\n",
       "      <td>-0.860677</td>\n",
       "      <td>0.053477</td>\n",
       "      <td>-0.007435</td>\n",
       "      <td>-0.732626</td>\n",
       "      <td>0.703511</td>\n",
       "      <td>-0.845092</td>\n",
       "      <td>0.180261</td>\n",
       "      <td>-0.047436</td>\n",
       "    </tr>\n",
       "    <tr>\n",
       "      <th>2</th>\n",
       "      <td>0.039978</td>\n",
       "      <td>-0.005153</td>\n",
       "      <td>-0.022651</td>\n",
       "      <td>-0.995482</td>\n",
       "      <td>-0.977314</td>\n",
       "      <td>-0.984760</td>\n",
       "      <td>-0.996415</td>\n",
       "      <td>-0.975835</td>\n",
       "      <td>-0.985973</td>\n",
       "      <td>-0.798477</td>\n",
       "      <td>...</td>\n",
       "      <td>0.440079</td>\n",
       "      <td>-0.404427</td>\n",
       "      <td>-0.761847</td>\n",
       "      <td>-0.118559</td>\n",
       "      <td>0.177899</td>\n",
       "      <td>0.100699</td>\n",
       "      <td>0.808529</td>\n",
       "      <td>-0.849230</td>\n",
       "      <td>0.180610</td>\n",
       "      <td>-0.042271</td>\n",
       "    </tr>\n",
       "    <tr>\n",
       "      <th>3</th>\n",
       "      <td>0.039785</td>\n",
       "      <td>-0.011809</td>\n",
       "      <td>-0.028916</td>\n",
       "      <td>-0.996194</td>\n",
       "      <td>-0.988569</td>\n",
       "      <td>-0.993256</td>\n",
       "      <td>-0.996994</td>\n",
       "      <td>-0.988526</td>\n",
       "      <td>-0.993135</td>\n",
       "      <td>-0.798477</td>\n",
       "      <td>...</td>\n",
       "      <td>0.430891</td>\n",
       "      <td>-0.138373</td>\n",
       "      <td>-0.491604</td>\n",
       "      <td>-0.036788</td>\n",
       "      <td>-0.012892</td>\n",
       "      <td>0.640011</td>\n",
       "      <td>-0.485366</td>\n",
       "      <td>-0.848947</td>\n",
       "      <td>0.181907</td>\n",
       "      <td>-0.040826</td>\n",
       "    </tr>\n",
       "    <tr>\n",
       "      <th>4</th>\n",
       "      <td>0.038758</td>\n",
       "      <td>-0.002289</td>\n",
       "      <td>-0.023863</td>\n",
       "      <td>-0.998241</td>\n",
       "      <td>-0.986774</td>\n",
       "      <td>-0.993115</td>\n",
       "      <td>-0.998216</td>\n",
       "      <td>-0.986479</td>\n",
       "      <td>-0.993825</td>\n",
       "      <td>-0.801982</td>\n",
       "      <td>...</td>\n",
       "      <td>0.137735</td>\n",
       "      <td>-0.366214</td>\n",
       "      <td>-0.702490</td>\n",
       "      <td>0.123320</td>\n",
       "      <td>0.122542</td>\n",
       "      <td>0.693578</td>\n",
       "      <td>-0.615971</td>\n",
       "      <td>-0.848164</td>\n",
       "      <td>0.185124</td>\n",
       "      <td>-0.037080</td>\n",
       "    </tr>\n",
       "    <tr>\n",
       "      <th>...</th>\n",
       "      <td>...</td>\n",
       "      <td>...</td>\n",
       "      <td>...</td>\n",
       "      <td>...</td>\n",
       "      <td>...</td>\n",
       "      <td>...</td>\n",
       "      <td>...</td>\n",
       "      <td>...</td>\n",
       "      <td>...</td>\n",
       "      <td>...</td>\n",
       "      <td>...</td>\n",
       "      <td>...</td>\n",
       "      <td>...</td>\n",
       "      <td>...</td>\n",
       "      <td>...</td>\n",
       "      <td>...</td>\n",
       "      <td>...</td>\n",
       "      <td>...</td>\n",
       "      <td>...</td>\n",
       "      <td>...</td>\n",
       "      <td>...</td>\n",
       "    </tr>\n",
       "    <tr>\n",
       "      <th>7762</th>\n",
       "      <td>0.048048</td>\n",
       "      <td>-0.042445</td>\n",
       "      <td>-0.065884</td>\n",
       "      <td>-0.195448</td>\n",
       "      <td>-0.278326</td>\n",
       "      <td>-0.219954</td>\n",
       "      <td>-0.282233</td>\n",
       "      <td>-0.305861</td>\n",
       "      <td>-0.357803</td>\n",
       "      <td>0.267874</td>\n",
       "      <td>...</td>\n",
       "      <td>-0.008381</td>\n",
       "      <td>-0.596760</td>\n",
       "      <td>-0.879026</td>\n",
       "      <td>-0.190437</td>\n",
       "      <td>0.829718</td>\n",
       "      <td>0.206972</td>\n",
       "      <td>-0.425619</td>\n",
       "      <td>-0.792292</td>\n",
       "      <td>0.238580</td>\n",
       "      <td>0.056020</td>\n",
       "    </tr>\n",
       "    <tr>\n",
       "      <th>7763</th>\n",
       "      <td>0.037639</td>\n",
       "      <td>0.006430</td>\n",
       "      <td>-0.044345</td>\n",
       "      <td>-0.235372</td>\n",
       "      <td>-0.302680</td>\n",
       "      <td>-0.232843</td>\n",
       "      <td>-0.322483</td>\n",
       "      <td>-0.354464</td>\n",
       "      <td>-0.345592</td>\n",
       "      <td>0.181271</td>\n",
       "      <td>...</td>\n",
       "      <td>0.209452</td>\n",
       "      <td>-0.404418</td>\n",
       "      <td>-0.684496</td>\n",
       "      <td>0.064907</td>\n",
       "      <td>0.875679</td>\n",
       "      <td>-0.879033</td>\n",
       "      <td>0.400219</td>\n",
       "      <td>-0.772288</td>\n",
       "      <td>0.252653</td>\n",
       "      <td>0.056252</td>\n",
       "    </tr>\n",
       "    <tr>\n",
       "      <th>7764</th>\n",
       "      <td>0.037451</td>\n",
       "      <td>-0.002724</td>\n",
       "      <td>0.021009</td>\n",
       "      <td>-0.218281</td>\n",
       "      <td>-0.378082</td>\n",
       "      <td>-0.076950</td>\n",
       "      <td>-0.304446</td>\n",
       "      <td>-0.400661</td>\n",
       "      <td>-0.193071</td>\n",
       "      <td>0.113141</td>\n",
       "      <td>...</td>\n",
       "      <td>0.237003</td>\n",
       "      <td>0.000207</td>\n",
       "      <td>-0.317314</td>\n",
       "      <td>0.052806</td>\n",
       "      <td>-0.266724</td>\n",
       "      <td>0.864404</td>\n",
       "      <td>0.701169</td>\n",
       "      <td>-0.779566</td>\n",
       "      <td>0.249121</td>\n",
       "      <td>0.047071</td>\n",
       "    </tr>\n",
       "    <tr>\n",
       "      <th>7765</th>\n",
       "      <td>0.044011</td>\n",
       "      <td>-0.004536</td>\n",
       "      <td>-0.051242</td>\n",
       "      <td>-0.219202</td>\n",
       "      <td>-0.383350</td>\n",
       "      <td>-0.081035</td>\n",
       "      <td>-0.310419</td>\n",
       "      <td>-0.380233</td>\n",
       "      <td>-0.201007</td>\n",
       "      <td>0.166671</td>\n",
       "      <td>...</td>\n",
       "      <td>0.069366</td>\n",
       "      <td>0.037919</td>\n",
       "      <td>-0.356579</td>\n",
       "      <td>-0.101360</td>\n",
       "      <td>0.700740</td>\n",
       "      <td>0.936674</td>\n",
       "      <td>-0.589479</td>\n",
       "      <td>-0.785603</td>\n",
       "      <td>0.246409</td>\n",
       "      <td>0.031700</td>\n",
       "    </tr>\n",
       "    <tr>\n",
       "      <th>7766</th>\n",
       "      <td>0.068954</td>\n",
       "      <td>0.001810</td>\n",
       "      <td>-0.080323</td>\n",
       "      <td>-0.269336</td>\n",
       "      <td>-0.366553</td>\n",
       "      <td>-0.147294</td>\n",
       "      <td>-0.377332</td>\n",
       "      <td>-0.360597</td>\n",
       "      <td>-0.255505</td>\n",
       "      <td>0.321881</td>\n",
       "      <td>...</td>\n",
       "      <td>0.002496</td>\n",
       "      <td>-0.400831</td>\n",
       "      <td>-0.742972</td>\n",
       "      <td>-0.280088</td>\n",
       "      <td>-0.007739</td>\n",
       "      <td>-0.056088</td>\n",
       "      <td>-0.616956</td>\n",
       "      <td>-0.783693</td>\n",
       "      <td>0.246785</td>\n",
       "      <td>0.042981</td>\n",
       "    </tr>\n",
       "  </tbody>\n",
       "</table>\n",
       "<p>7767 rows × 561 columns</p>\n",
       "</div>"
      ],
      "text/plain": [
       "           0         1         2         3         4         5         6    \\\n",
       "0     0.043580 -0.005970 -0.035054 -0.995381 -0.988366 -0.937382 -0.995007   \n",
       "1     0.039480 -0.002131 -0.029067 -0.998348 -0.982945 -0.971273 -0.998702   \n",
       "2     0.039978 -0.005153 -0.022651 -0.995482 -0.977314 -0.984760 -0.996415   \n",
       "3     0.039785 -0.011809 -0.028916 -0.996194 -0.988569 -0.993256 -0.996994   \n",
       "4     0.038758 -0.002289 -0.023863 -0.998241 -0.986774 -0.993115 -0.998216   \n",
       "...        ...       ...       ...       ...       ...       ...       ...   \n",
       "7762  0.048048 -0.042445 -0.065884 -0.195448 -0.278326 -0.219954 -0.282233   \n",
       "7763  0.037639  0.006430 -0.044345 -0.235372 -0.302680 -0.232843 -0.322483   \n",
       "7764  0.037451 -0.002724  0.021009 -0.218281 -0.378082 -0.076950 -0.304446   \n",
       "7765  0.044011 -0.004536 -0.051242 -0.219202 -0.383350 -0.081035 -0.310419   \n",
       "7766  0.068954  0.001810 -0.080323 -0.269336 -0.366553 -0.147294 -0.377332   \n",
       "\n",
       "           7         8         9    ...       551       552       553  \\\n",
       "0    -0.988816 -0.953325 -0.794796  ... -0.012236 -0.314848 -0.713308   \n",
       "1    -0.983315 -0.974000 -0.802537  ...  0.202804 -0.603199 -0.860677   \n",
       "2    -0.975835 -0.985973 -0.798477  ...  0.440079 -0.404427 -0.761847   \n",
       "3    -0.988526 -0.993135 -0.798477  ...  0.430891 -0.138373 -0.491604   \n",
       "4    -0.986479 -0.993825 -0.801982  ...  0.137735 -0.366214 -0.702490   \n",
       "...        ...       ...       ...  ...       ...       ...       ...   \n",
       "7762 -0.305861 -0.357803  0.267874  ... -0.008381 -0.596760 -0.879026   \n",
       "7763 -0.354464 -0.345592  0.181271  ...  0.209452 -0.404418 -0.684496   \n",
       "7764 -0.400661 -0.193071  0.113141  ...  0.237003  0.000207 -0.317314   \n",
       "7765 -0.380233 -0.201007  0.166671  ...  0.069366  0.037919 -0.356579   \n",
       "7766 -0.360597 -0.255505  0.321881  ...  0.002496 -0.400831 -0.742972   \n",
       "\n",
       "           554       555       556       557       558       559       560  \n",
       "0    -0.112754  0.030400 -0.464761 -0.018446 -0.841559  0.179913 -0.051718  \n",
       "1     0.053477 -0.007435 -0.732626  0.703511 -0.845092  0.180261 -0.047436  \n",
       "2    -0.118559  0.177899  0.100699  0.808529 -0.849230  0.180610 -0.042271  \n",
       "3    -0.036788 -0.012892  0.640011 -0.485366 -0.848947  0.181907 -0.040826  \n",
       "4     0.123320  0.122542  0.693578 -0.615971 -0.848164  0.185124 -0.037080  \n",
       "...        ...       ...       ...       ...       ...       ...       ...  \n",
       "7762 -0.190437  0.829718  0.206972 -0.425619 -0.792292  0.238580  0.056020  \n",
       "7763  0.064907  0.875679 -0.879033  0.400219 -0.772288  0.252653  0.056252  \n",
       "7764  0.052806 -0.266724  0.864404  0.701169 -0.779566  0.249121  0.047071  \n",
       "7765 -0.101360  0.700740  0.936674 -0.589479 -0.785603  0.246409  0.031700  \n",
       "7766 -0.280088 -0.007739 -0.056088 -0.616956 -0.783693  0.246785  0.042981  \n",
       "\n",
       "[7767 rows x 561 columns]"
      ]
     },
     "execution_count": 52,
     "metadata": {},
     "output_type": "execute_result"
    }
   ],
   "source": [
    "X_train"
   ]
  },
  {
   "cell_type": "code",
   "execution_count": 53,
   "metadata": {},
   "outputs": [
    {
     "data": {
      "text/html": [
       "<div>\n",
       "<style scoped>\n",
       "    .dataframe tbody tr th:only-of-type {\n",
       "        vertical-align: middle;\n",
       "    }\n",
       "\n",
       "    .dataframe tbody tr th {\n",
       "        vertical-align: top;\n",
       "    }\n",
       "\n",
       "    .dataframe thead th {\n",
       "        text-align: right;\n",
       "    }\n",
       "</style>\n",
       "<table border=\"1\" class=\"dataframe\">\n",
       "  <thead>\n",
       "    <tr style=\"text-align: right;\">\n",
       "      <th></th>\n",
       "      <th>0</th>\n",
       "    </tr>\n",
       "  </thead>\n",
       "  <tbody>\n",
       "    <tr>\n",
       "      <th>0</th>\n",
       "      <td>5.0</td>\n",
       "    </tr>\n",
       "    <tr>\n",
       "      <th>1</th>\n",
       "      <td>5.0</td>\n",
       "    </tr>\n",
       "    <tr>\n",
       "      <th>2</th>\n",
       "      <td>5.0</td>\n",
       "    </tr>\n",
       "    <tr>\n",
       "      <th>3</th>\n",
       "      <td>5.0</td>\n",
       "    </tr>\n",
       "    <tr>\n",
       "      <th>4</th>\n",
       "      <td>5.0</td>\n",
       "    </tr>\n",
       "    <tr>\n",
       "      <th>...</th>\n",
       "      <td>...</td>\n",
       "    </tr>\n",
       "    <tr>\n",
       "      <th>7762</th>\n",
       "      <td>2.0</td>\n",
       "    </tr>\n",
       "    <tr>\n",
       "      <th>7763</th>\n",
       "      <td>2.0</td>\n",
       "    </tr>\n",
       "    <tr>\n",
       "      <th>7764</th>\n",
       "      <td>2.0</td>\n",
       "    </tr>\n",
       "    <tr>\n",
       "      <th>7765</th>\n",
       "      <td>2.0</td>\n",
       "    </tr>\n",
       "    <tr>\n",
       "      <th>7766</th>\n",
       "      <td>2.0</td>\n",
       "    </tr>\n",
       "  </tbody>\n",
       "</table>\n",
       "<p>7767 rows × 1 columns</p>\n",
       "</div>"
      ],
      "text/plain": [
       "        0\n",
       "0     5.0\n",
       "1     5.0\n",
       "2     5.0\n",
       "3     5.0\n",
       "4     5.0\n",
       "...   ...\n",
       "7762  2.0\n",
       "7763  2.0\n",
       "7764  2.0\n",
       "7765  2.0\n",
       "7766  2.0\n",
       "\n",
       "[7767 rows x 1 columns]"
      ]
     },
     "execution_count": 53,
     "metadata": {},
     "output_type": "execute_result"
    }
   ],
   "source": [
    "y_train"
   ]
  },
  {
   "cell_type": "code",
   "execution_count": 54,
   "metadata": {},
   "outputs": [
    {
     "data": {
      "text/html": [
       "<div>\n",
       "<style scoped>\n",
       "    .dataframe tbody tr th:only-of-type {\n",
       "        vertical-align: middle;\n",
       "    }\n",
       "\n",
       "    .dataframe tbody tr th {\n",
       "        vertical-align: top;\n",
       "    }\n",
       "\n",
       "    .dataframe thead th {\n",
       "        text-align: right;\n",
       "    }\n",
       "</style>\n",
       "<table border=\"1\" class=\"dataframe\">\n",
       "  <thead>\n",
       "    <tr style=\"text-align: right;\">\n",
       "      <th></th>\n",
       "      <th>0</th>\n",
       "      <th>1</th>\n",
       "      <th>2</th>\n",
       "      <th>3</th>\n",
       "      <th>4</th>\n",
       "      <th>5</th>\n",
       "      <th>6</th>\n",
       "      <th>7</th>\n",
       "      <th>8</th>\n",
       "      <th>9</th>\n",
       "      <th>...</th>\n",
       "      <th>551</th>\n",
       "      <th>552</th>\n",
       "      <th>553</th>\n",
       "      <th>554</th>\n",
       "      <th>555</th>\n",
       "      <th>556</th>\n",
       "      <th>557</th>\n",
       "      <th>558</th>\n",
       "      <th>559</th>\n",
       "      <th>560</th>\n",
       "    </tr>\n",
       "  </thead>\n",
       "  <tbody>\n",
       "    <tr>\n",
       "      <th>0</th>\n",
       "      <td>0.030914</td>\n",
       "      <td>-0.008927</td>\n",
       "      <td>0.040382</td>\n",
       "      <td>-0.938504</td>\n",
       "      <td>-0.944626</td>\n",
       "      <td>-0.759334</td>\n",
       "      <td>-0.952398</td>\n",
       "      <td>-0.950281</td>\n",
       "      <td>-0.802483</td>\n",
       "      <td>-0.757099</td>\n",
       "      <td>...</td>\n",
       "      <td>0.122830</td>\n",
       "      <td>-0.345684</td>\n",
       "      <td>-0.709087</td>\n",
       "      <td>0.006462</td>\n",
       "      <td>0.162920</td>\n",
       "      <td>-0.825886</td>\n",
       "      <td>0.271151</td>\n",
       "      <td>-0.720559</td>\n",
       "      <td>0.276779</td>\n",
       "      <td>-0.051074</td>\n",
       "    </tr>\n",
       "    <tr>\n",
       "      <th>1</th>\n",
       "      <td>0.042548</td>\n",
       "      <td>0.001079</td>\n",
       "      <td>-0.026236</td>\n",
       "      <td>-0.975516</td>\n",
       "      <td>-0.977502</td>\n",
       "      <td>-0.960146</td>\n",
       "      <td>-0.986694</td>\n",
       "      <td>-0.978983</td>\n",
       "      <td>-0.966820</td>\n",
       "      <td>-0.757099</td>\n",
       "      <td>...</td>\n",
       "      <td>-0.314688</td>\n",
       "      <td>-0.142804</td>\n",
       "      <td>-0.600867</td>\n",
       "      <td>-0.083495</td>\n",
       "      <td>0.017500</td>\n",
       "      <td>-0.434375</td>\n",
       "      <td>0.920593</td>\n",
       "      <td>-0.698684</td>\n",
       "      <td>0.281322</td>\n",
       "      <td>-0.076825</td>\n",
       "    </tr>\n",
       "    <tr>\n",
       "      <th>2</th>\n",
       "      <td>0.038297</td>\n",
       "      <td>-0.011660</td>\n",
       "      <td>-0.025643</td>\n",
       "      <td>-0.993922</td>\n",
       "      <td>-0.979215</td>\n",
       "      <td>-0.973030</td>\n",
       "      <td>-0.994298</td>\n",
       "      <td>-0.980535</td>\n",
       "      <td>-0.977508</td>\n",
       "      <td>-0.799005</td>\n",
       "      <td>...</td>\n",
       "      <td>0.114730</td>\n",
       "      <td>-0.209525</td>\n",
       "      <td>-0.645500</td>\n",
       "      <td>-0.034956</td>\n",
       "      <td>0.202302</td>\n",
       "      <td>0.064103</td>\n",
       "      <td>0.145068</td>\n",
       "      <td>-0.703355</td>\n",
       "      <td>0.280062</td>\n",
       "      <td>-0.072302</td>\n",
       "    </tr>\n",
       "    <tr>\n",
       "      <th>3</th>\n",
       "      <td>0.036205</td>\n",
       "      <td>-0.018148</td>\n",
       "      <td>-0.025240</td>\n",
       "      <td>-0.994845</td>\n",
       "      <td>-0.981534</td>\n",
       "      <td>-0.976175</td>\n",
       "      <td>-0.995169</td>\n",
       "      <td>-0.983020</td>\n",
       "      <td>-0.980785</td>\n",
       "      <td>-0.798401</td>\n",
       "      <td>...</td>\n",
       "      <td>0.164515</td>\n",
       "      <td>-0.359352</td>\n",
       "      <td>-0.738474</td>\n",
       "      <td>-0.017067</td>\n",
       "      <td>0.154438</td>\n",
       "      <td>0.340134</td>\n",
       "      <td>0.296407</td>\n",
       "      <td>-0.699545</td>\n",
       "      <td>0.284093</td>\n",
       "      <td>-0.070079</td>\n",
       "    </tr>\n",
       "    <tr>\n",
       "      <th>4</th>\n",
       "      <td>0.038034</td>\n",
       "      <td>-0.013437</td>\n",
       "      <td>-0.032899</td>\n",
       "      <td>-0.993955</td>\n",
       "      <td>-0.977493</td>\n",
       "      <td>-0.984290</td>\n",
       "      <td>-0.994006</td>\n",
       "      <td>-0.977354</td>\n",
       "      <td>-0.985899</td>\n",
       "      <td>-0.798401</td>\n",
       "      <td>...</td>\n",
       "      <td>-0.056085</td>\n",
       "      <td>-0.544467</td>\n",
       "      <td>-0.846150</td>\n",
       "      <td>-0.002223</td>\n",
       "      <td>-0.040046</td>\n",
       "      <td>0.736715</td>\n",
       "      <td>-0.118545</td>\n",
       "      <td>-0.692849</td>\n",
       "      <td>0.290701</td>\n",
       "      <td>-0.066849</td>\n",
       "    </tr>\n",
       "    <tr>\n",
       "      <th>...</th>\n",
       "      <td>...</td>\n",
       "      <td>...</td>\n",
       "      <td>...</td>\n",
       "      <td>...</td>\n",
       "      <td>...</td>\n",
       "      <td>...</td>\n",
       "      <td>...</td>\n",
       "      <td>...</td>\n",
       "      <td>...</td>\n",
       "      <td>...</td>\n",
       "      <td>...</td>\n",
       "      <td>...</td>\n",
       "      <td>...</td>\n",
       "      <td>...</td>\n",
       "      <td>...</td>\n",
       "      <td>...</td>\n",
       "      <td>...</td>\n",
       "      <td>...</td>\n",
       "      <td>...</td>\n",
       "      <td>...</td>\n",
       "      <td>...</td>\n",
       "    </tr>\n",
       "    <tr>\n",
       "      <th>3157</th>\n",
       "      <td>0.052279</td>\n",
       "      <td>-0.038687</td>\n",
       "      <td>-0.013494</td>\n",
       "      <td>-0.287933</td>\n",
       "      <td>-0.403601</td>\n",
       "      <td>-0.431550</td>\n",
       "      <td>-0.356012</td>\n",
       "      <td>-0.433826</td>\n",
       "      <td>-0.534817</td>\n",
       "      <td>0.244280</td>\n",
       "      <td>...</td>\n",
       "      <td>0.125445</td>\n",
       "      <td>-0.390349</td>\n",
       "      <td>-0.752788</td>\n",
       "      <td>-0.337422</td>\n",
       "      <td>0.346295</td>\n",
       "      <td>0.884904</td>\n",
       "      <td>-0.698885</td>\n",
       "      <td>-0.652416</td>\n",
       "      <td>0.274605</td>\n",
       "      <td>0.190104</td>\n",
       "    </tr>\n",
       "    <tr>\n",
       "      <th>3158</th>\n",
       "      <td>0.073745</td>\n",
       "      <td>-0.024673</td>\n",
       "      <td>-0.017836</td>\n",
       "      <td>-0.305455</td>\n",
       "      <td>-0.286487</td>\n",
       "      <td>-0.417996</td>\n",
       "      <td>-0.373468</td>\n",
       "      <td>-0.354849</td>\n",
       "      <td>-0.557925</td>\n",
       "      <td>0.244280</td>\n",
       "      <td>...</td>\n",
       "      <td>0.150787</td>\n",
       "      <td>-0.336001</td>\n",
       "      <td>-0.703532</td>\n",
       "      <td>-0.736701</td>\n",
       "      <td>-0.372889</td>\n",
       "      <td>-0.657421</td>\n",
       "      <td>0.322548</td>\n",
       "      <td>-0.655858</td>\n",
       "      <td>0.273556</td>\n",
       "      <td>0.187748</td>\n",
       "    </tr>\n",
       "    <tr>\n",
       "      <th>3159</th>\n",
       "      <td>0.068334</td>\n",
       "      <td>0.043822</td>\n",
       "      <td>-0.024135</td>\n",
       "      <td>-0.329706</td>\n",
       "      <td>-0.335273</td>\n",
       "      <td>-0.456965</td>\n",
       "      <td>-0.387944</td>\n",
       "      <td>-0.423504</td>\n",
       "      <td>-0.604403</td>\n",
       "      <td>0.079255</td>\n",
       "      <td>...</td>\n",
       "      <td>-0.004765</td>\n",
       "      <td>-0.139894</td>\n",
       "      <td>-0.476335</td>\n",
       "      <td>-0.181560</td>\n",
       "      <td>0.088574</td>\n",
       "      <td>0.696664</td>\n",
       "      <td>0.363139</td>\n",
       "      <td>-0.656034</td>\n",
       "      <td>0.274457</td>\n",
       "      <td>0.186527</td>\n",
       "    </tr>\n",
       "    <tr>\n",
       "      <th>3160</th>\n",
       "      <td>0.023016</td>\n",
       "      <td>0.032345</td>\n",
       "      <td>-0.011830</td>\n",
       "      <td>-0.323182</td>\n",
       "      <td>-0.465502</td>\n",
       "      <td>-0.426108</td>\n",
       "      <td>-0.392307</td>\n",
       "      <td>-0.520848</td>\n",
       "      <td>-0.569571</td>\n",
       "      <td>0.079255</td>\n",
       "      <td>...</td>\n",
       "      <td>0.013540</td>\n",
       "      <td>-0.224141</td>\n",
       "      <td>-0.623083</td>\n",
       "      <td>0.444558</td>\n",
       "      <td>-0.819188</td>\n",
       "      <td>0.929294</td>\n",
       "      <td>-0.008398</td>\n",
       "      <td>-0.660387</td>\n",
       "      <td>0.264759</td>\n",
       "      <td>0.192865</td>\n",
       "    </tr>\n",
       "    <tr>\n",
       "      <th>3161</th>\n",
       "      <td>-0.010846</td>\n",
       "      <td>-0.004134</td>\n",
       "      <td>-0.037678</td>\n",
       "      <td>-0.330114</td>\n",
       "      <td>-0.441542</td>\n",
       "      <td>-0.394796</td>\n",
       "      <td>-0.430898</td>\n",
       "      <td>-0.480065</td>\n",
       "      <td>-0.533532</td>\n",
       "      <td>-0.031137</td>\n",
       "      <td>...</td>\n",
       "      <td>0.046926</td>\n",
       "      <td>-0.094539</td>\n",
       "      <td>-0.446862</td>\n",
       "      <td>0.598808</td>\n",
       "      <td>-0.287951</td>\n",
       "      <td>0.876030</td>\n",
       "      <td>-0.024965</td>\n",
       "      <td>-0.660748</td>\n",
       "      <td>0.263914</td>\n",
       "      <td>0.193402</td>\n",
       "    </tr>\n",
       "  </tbody>\n",
       "</table>\n",
       "<p>3162 rows × 561 columns</p>\n",
       "</div>"
      ],
      "text/plain": [
       "           0         1         2         3         4         5         6    \\\n",
       "0     0.030914 -0.008927  0.040382 -0.938504 -0.944626 -0.759334 -0.952398   \n",
       "1     0.042548  0.001079 -0.026236 -0.975516 -0.977502 -0.960146 -0.986694   \n",
       "2     0.038297 -0.011660 -0.025643 -0.993922 -0.979215 -0.973030 -0.994298   \n",
       "3     0.036205 -0.018148 -0.025240 -0.994845 -0.981534 -0.976175 -0.995169   \n",
       "4     0.038034 -0.013437 -0.032899 -0.993955 -0.977493 -0.984290 -0.994006   \n",
       "...        ...       ...       ...       ...       ...       ...       ...   \n",
       "3157  0.052279 -0.038687 -0.013494 -0.287933 -0.403601 -0.431550 -0.356012   \n",
       "3158  0.073745 -0.024673 -0.017836 -0.305455 -0.286487 -0.417996 -0.373468   \n",
       "3159  0.068334  0.043822 -0.024135 -0.329706 -0.335273 -0.456965 -0.387944   \n",
       "3160  0.023016  0.032345 -0.011830 -0.323182 -0.465502 -0.426108 -0.392307   \n",
       "3161 -0.010846 -0.004134 -0.037678 -0.330114 -0.441542 -0.394796 -0.430898   \n",
       "\n",
       "           7         8         9    ...       551       552       553  \\\n",
       "0    -0.950281 -0.802483 -0.757099  ...  0.122830 -0.345684 -0.709087   \n",
       "1    -0.978983 -0.966820 -0.757099  ... -0.314688 -0.142804 -0.600867   \n",
       "2    -0.980535 -0.977508 -0.799005  ...  0.114730 -0.209525 -0.645500   \n",
       "3    -0.983020 -0.980785 -0.798401  ...  0.164515 -0.359352 -0.738474   \n",
       "4    -0.977354 -0.985899 -0.798401  ... -0.056085 -0.544467 -0.846150   \n",
       "...        ...       ...       ...  ...       ...       ...       ...   \n",
       "3157 -0.433826 -0.534817  0.244280  ...  0.125445 -0.390349 -0.752788   \n",
       "3158 -0.354849 -0.557925  0.244280  ...  0.150787 -0.336001 -0.703532   \n",
       "3159 -0.423504 -0.604403  0.079255  ... -0.004765 -0.139894 -0.476335   \n",
       "3160 -0.520848 -0.569571  0.079255  ...  0.013540 -0.224141 -0.623083   \n",
       "3161 -0.480065 -0.533532 -0.031137  ...  0.046926 -0.094539 -0.446862   \n",
       "\n",
       "           554       555       556       557       558       559       560  \n",
       "0     0.006462  0.162920 -0.825886  0.271151 -0.720559  0.276779 -0.051074  \n",
       "1    -0.083495  0.017500 -0.434375  0.920593 -0.698684  0.281322 -0.076825  \n",
       "2    -0.034956  0.202302  0.064103  0.145068 -0.703355  0.280062 -0.072302  \n",
       "3    -0.017067  0.154438  0.340134  0.296407 -0.699545  0.284093 -0.070079  \n",
       "4    -0.002223 -0.040046  0.736715 -0.118545 -0.692849  0.290701 -0.066849  \n",
       "...        ...       ...       ...       ...       ...       ...       ...  \n",
       "3157 -0.337422  0.346295  0.884904 -0.698885 -0.652416  0.274605  0.190104  \n",
       "3158 -0.736701 -0.372889 -0.657421  0.322548 -0.655858  0.273556  0.187748  \n",
       "3159 -0.181560  0.088574  0.696664  0.363139 -0.656034  0.274457  0.186527  \n",
       "3160  0.444558 -0.819188  0.929294 -0.008398 -0.660387  0.264759  0.192865  \n",
       "3161  0.598808 -0.287951  0.876030 -0.024965 -0.660748  0.263914  0.193402  \n",
       "\n",
       "[3162 rows x 561 columns]"
      ]
     },
     "execution_count": 54,
     "metadata": {},
     "output_type": "execute_result"
    }
   ],
   "source": [
    "X_test"
   ]
  },
  {
   "cell_type": "code",
   "execution_count": 55,
   "metadata": {},
   "outputs": [
    {
     "data": {
      "text/html": [
       "<div>\n",
       "<style scoped>\n",
       "    .dataframe tbody tr th:only-of-type {\n",
       "        vertical-align: middle;\n",
       "    }\n",
       "\n",
       "    .dataframe tbody tr th {\n",
       "        vertical-align: top;\n",
       "    }\n",
       "\n",
       "    .dataframe thead th {\n",
       "        text-align: right;\n",
       "    }\n",
       "</style>\n",
       "<table border=\"1\" class=\"dataframe\">\n",
       "  <thead>\n",
       "    <tr style=\"text-align: right;\">\n",
       "      <th></th>\n",
       "      <th>0</th>\n",
       "    </tr>\n",
       "  </thead>\n",
       "  <tbody>\n",
       "    <tr>\n",
       "      <th>0</th>\n",
       "      <td>5.0</td>\n",
       "    </tr>\n",
       "    <tr>\n",
       "      <th>1</th>\n",
       "      <td>5.0</td>\n",
       "    </tr>\n",
       "    <tr>\n",
       "      <th>2</th>\n",
       "      <td>5.0</td>\n",
       "    </tr>\n",
       "    <tr>\n",
       "      <th>3</th>\n",
       "      <td>5.0</td>\n",
       "    </tr>\n",
       "    <tr>\n",
       "      <th>4</th>\n",
       "      <td>5.0</td>\n",
       "    </tr>\n",
       "    <tr>\n",
       "      <th>...</th>\n",
       "      <td>...</td>\n",
       "    </tr>\n",
       "    <tr>\n",
       "      <th>3157</th>\n",
       "      <td>2.0</td>\n",
       "    </tr>\n",
       "    <tr>\n",
       "      <th>3158</th>\n",
       "      <td>2.0</td>\n",
       "    </tr>\n",
       "    <tr>\n",
       "      <th>3159</th>\n",
       "      <td>2.0</td>\n",
       "    </tr>\n",
       "    <tr>\n",
       "      <th>3160</th>\n",
       "      <td>2.0</td>\n",
       "    </tr>\n",
       "    <tr>\n",
       "      <th>3161</th>\n",
       "      <td>2.0</td>\n",
       "    </tr>\n",
       "  </tbody>\n",
       "</table>\n",
       "<p>3162 rows × 1 columns</p>\n",
       "</div>"
      ],
      "text/plain": [
       "        0\n",
       "0     5.0\n",
       "1     5.0\n",
       "2     5.0\n",
       "3     5.0\n",
       "4     5.0\n",
       "...   ...\n",
       "3157  2.0\n",
       "3158  2.0\n",
       "3159  2.0\n",
       "3160  2.0\n",
       "3161  2.0\n",
       "\n",
       "[3162 rows x 1 columns]"
      ]
     },
     "execution_count": 55,
     "metadata": {},
     "output_type": "execute_result"
    }
   ],
   "source": [
    "y_test"
   ]
  },
  {
   "cell_type": "markdown",
   "metadata": {},
   "source": [
    "### Zadanie 2"
   ]
  },
  {
   "cell_type": "code",
   "execution_count": 56,
   "metadata": {},
   "outputs": [],
   "source": [
    "X_train = X_train.values\n",
    "y_train = y_train.values.ravel() # cause of error:  Please change the shape of y to (n_samples, ), for example using ravel()\n",
    "\n",
    "X_test = X_test.values\n",
    "y_test = y_test.values.ravel()"
   ]
  },
  {
   "cell_type": "code",
   "execution_count": 57,
   "metadata": {},
   "outputs": [
    {
     "data": {
      "text/plain": [
       "array([0.83011583, 0.85907336, 0.83129427, 0.85447521, 0.88795879])"
      ]
     },
     "execution_count": 57,
     "metadata": {},
     "output_type": "execute_result"
    }
   ],
   "source": [
    "from sklearn.ensemble import AdaBoostClassifier, RandomForestClassifier, VotingClassifier\n",
    "from sklearn.tree import DecisionTreeClassifier\n",
    "from sklearn.model_selection import cross_val_score\n",
    "\n",
    "clf1 = AdaBoostClassifier(n_estimators = 64)\n",
    "clf2 = RandomForestClassifier(n_estimators = 64)\n",
    "clf3 = DecisionTreeClassifier()\n",
    "\n",
    "eclf = VotingClassifier(estimators=[('ab', clf1), ('rf', clf2), ('dt', clf3)], voting='hard')\n",
    "scores = cross_val_score(eclf, X_train, y_train, cv=5)\n",
    "scores"
   ]
  },
  {
   "cell_type": "code",
   "execution_count": 58,
   "metadata": {},
   "outputs": [],
   "source": [
    "eclf = eclf.fit(X_train,y_train)"
   ]
  },
  {
   "cell_type": "code",
   "execution_count": 59,
   "metadata": {},
   "outputs": [],
   "source": [
    "from sklearn.metrics import plot_confusion_matrix, accuracy_score, recall_score, f1_score, roc_auc_score, make_scorer\n",
    "from sklearn.preprocessing import label_binarize\n",
    "import matplotlib.pyplot as plt\n",
    "\n",
    "def check_score(model, X_test, y_test):\n",
    "    classes = np.arange(1, 13)\n",
    "    prediction = model.predict(X_test)\n",
    "    acc = accuracy_score(y_test, prediction)\n",
    "    recall = recall_score(y_test, prediction, average='macro')\n",
    "    f1 = f1_score(y_test, prediction, average='macro')\n",
    "    roc = roc_auc_score(label_binarize(y_test, classes=classes),label_binarize(prediction, classes=classes), multi_class='ovr',average='macro')\n",
    "  \n",
    "    fig, ax = plt.subplots(figsize=(10, 10))\n",
    "    plot_confusion_matrix(model, X_test, y_test, ax=ax)\n",
    "    \n",
    "    return pd.Series({\n",
    "        \"ACC\": acc,\n",
    "        \"Recall\": recall,\n",
    "        \"F1\": f1,\n",
    "        \"AUC\": roc\n",
    "    })"
   ]
  },
  {
   "cell_type": "code",
   "execution_count": 60,
   "metadata": {},
   "outputs": [
    {
     "data": {
      "image/png": "[encoded data removed]",
      "text/plain": [
       "<Figure size 720x720 with 2 Axes>"
      ]
     },
     "metadata": {
      "needs_background": "light"
     },
     "output_type": "display_data"
    }
   ],
   "source": [
    "first_method = check_score(eclf, X_test, y_test)"
   ]
  },
  {
   "cell_type": "code",
   "execution_count": 63,
   "metadata": {},
   "outputs": [
    {
     "data": {
      "text/plain": [
       "ACC       0.842188\n",
       "Recall    0.703282\n",
       "F1        0.721730\n",
       "AUC       0.843937\n",
       "dtype: float64"
      ]
     },
     "execution_count": 63,
     "metadata": {},
     "output_type": "execute_result"
    }
   ],
   "source": [
    "first_method"
   ]
  },
  {
   "cell_type": "code",
   "execution_count": 64,
   "metadata": {},
   "outputs": [],
   "source": [
    "prediction = eclf.predict(X_test)\n",
    "df = pd.DataFrame(prediction)"
   ]
  },
  {
   "cell_type": "code",
   "execution_count": 65,
   "metadata": {},
   "outputs": [],
   "source": [
    "df.to_excel(\"ensemble_learning.xlsx\")"
   ]
  },
  {
   "cell_type": "markdown",
   "metadata": {},
   "source": [
    "### Zadanie 3"
   ]
  },
  {
   "cell_type": "code",
   "execution_count": 66,
   "metadata": {},
   "outputs": [],
   "source": [
    "from sklearn.ensemble import BaggingClassifier"
   ]
  },
  {
   "cell_type": "code",
   "execution_count": 67,
   "metadata": {},
   "outputs": [],
   "source": [
    "bgc1 = BaggingClassifier(clf1,\n",
    "  n_estimators=3)\n",
    "bgc2 = BaggingClassifier(clf2,\n",
    "  n_estimators=3)\n",
    "bgc3 = BaggingClassifier(clf3,\n",
    "  n_estimators=3)"
   ]
  },
  {
   "cell_type": "code",
   "execution_count": 68,
   "metadata": {},
   "outputs": [],
   "source": [
    "eclf = VotingClassifier(estimators=[('ab', bgc1), ('rf', bgc2), ('dt', bgc3)], voting='hard')"
   ]
  },
  {
   "cell_type": "code",
   "execution_count": 69,
   "metadata": {},
   "outputs": [
    {
     "data": {
      "text/plain": [
       "array([0.82303732, 0.85070785, 0.84739214, 0.89246619, 0.90212492])"
      ]
     },
     "execution_count": 69,
     "metadata": {},
     "output_type": "execute_result"
    }
   ],
   "source": [
    "scores = cross_val_score(eclf, X_train, y_train, cv=5)\n",
    "scores"
   ]
  },
  {
   "cell_type": "code",
   "execution_count": 70,
   "metadata": {},
   "outputs": [],
   "source": [
    "eclf = eclf.fit(X_train,y_train)"
   ]
  },
  {
   "cell_type": "code",
   "execution_count": 71,
   "metadata": {},
   "outputs": [
    {
     "data": {
      "image/png": "[encoded data removed]",
      "text/plain": [
       "<Figure size 720x720 with 2 Axes>"
      ]
     },
     "metadata": {
      "needs_background": "light"
     },
     "output_type": "display_data"
    }
   ],
   "source": [
    "second_method = check_score(eclf, X_test, y_test)"
   ]
  },
  {
   "cell_type": "code",
   "execution_count": 72,
   "metadata": {},
   "outputs": [
    {
     "data": {
      "text/plain": [
       "ACC       0.865908\n",
       "Recall    0.698986\n",
       "F1        0.724485\n",
       "AUC       0.842947\n",
       "dtype: float64"
      ]
     },
     "execution_count": 72,
     "metadata": {},
     "output_type": "execute_result"
    }
   ],
   "source": [
    "second_method"
   ]
  },
  {
   "cell_type": "code",
   "execution_count": 73,
   "metadata": {},
   "outputs": [],
   "source": [
    "prediction = eclf.predict(X_test)\n",
    "df = pd.DataFrame(prediction)"
   ]
  },
  {
   "cell_type": "code",
   "execution_count": 74,
   "metadata": {},
   "outputs": [],
   "source": [
    "df.to_excel(\"aggregating.xlsx\")"
   ]
  },
  {
   "cell_type": "code",
   "execution_count": 75,
   "metadata": {},
   "outputs": [],
   "source": [
    "from xgboost import XGBClassifier"
   ]
  },
  {
   "cell_type": "code",
   "execution_count": 76,
   "metadata": {},
   "outputs": [],
   "source": [
    "ada_boost = AdaBoostClassifier()\n",
    "xg_boost = XGBClassifier()"
   ]
  },
  {
   "cell_type": "code",
   "execution_count": 77,
   "metadata": {},
   "outputs": [],
   "source": [
    "eclf = VotingClassifier(estimators=[('ab', ada_boost), ('XGBoost', xg_boost)], voting='hard')"
   ]
  },
  {
   "cell_type": "code",
   "execution_count": 78,
   "metadata": {},
   "outputs": [
    {
     "name": "stderr",
     "output_type": "stream",
     "text": [
      "f:\\python\\lib\\site-packages\\xgboost\\sklearn.py:1146: UserWarning: The use of label encoder in XGBClassifier is deprecated and will be removed in a future release. To remove this warning, do the following: 1) Pass option use_label_encoder=False when constructing XGBClassifier object; and 2) Encode your labels (y) as integers starting with 0, i.e. 0, 1, 2, ..., [num_class - 1].\n",
      "  warnings.warn(label_encoder_deprecation_msg, UserWarning)\n"
     ]
    },
    {
     "name": "stdout",
     "output_type": "stream",
     "text": [
      "[16:51:20] WARNING: C:/Users/Administrator/workspace/xgboost-win64_release_1.4.0/src/learner.cc:1095: Starting in XGBoost 1.3.0, the default evaluation metric used with the objective 'multi:softprob' was changed from 'merror' to 'mlogloss'. Explicitly set eval_metric if you'd like to restore the old behavior.\n"
     ]
    },
    {
     "name": "stderr",
     "output_type": "stream",
     "text": [
      "f:\\python\\lib\\site-packages\\xgboost\\sklearn.py:1146: UserWarning: The use of label encoder in XGBClassifier is deprecated and will be removed in a future release. To remove this warning, do the following: 1) Pass option use_label_encoder=False when constructing XGBClassifier object; and 2) Encode your labels (y) as integers starting with 0, i.e. 0, 1, 2, ..., [num_class - 1].\n",
      "  warnings.warn(label_encoder_deprecation_msg, UserWarning)\n"
     ]
    },
    {
     "name": "stdout",
     "output_type": "stream",
     "text": [
      "[16:51:52] WARNING: C:/Users/Administrator/workspace/xgboost-win64_release_1.4.0/src/learner.cc:1095: Starting in XGBoost 1.3.0, the default evaluation metric used with the objective 'multi:softprob' was changed from 'merror' to 'mlogloss'. Explicitly set eval_metric if you'd like to restore the old behavior.\n"
     ]
    },
    {
     "name": "stderr",
     "output_type": "stream",
     "text": [
      "f:\\python\\lib\\site-packages\\xgboost\\sklearn.py:1146: UserWarning: The use of label encoder in XGBClassifier is deprecated and will be removed in a future release. To remove this warning, do the following: 1) Pass option use_label_encoder=False when constructing XGBClassifier object; and 2) Encode your labels (y) as integers starting with 0, i.e. 0, 1, 2, ..., [num_class - 1].\n",
      "  warnings.warn(label_encoder_deprecation_msg, UserWarning)\n"
     ]
    },
    {
     "name": "stdout",
     "output_type": "stream",
     "text": [
      "[16:52:24] WARNING: C:/Users/Administrator/workspace/xgboost-win64_release_1.4.0/src/learner.cc:1095: Starting in XGBoost 1.3.0, the default evaluation metric used with the objective 'multi:softprob' was changed from 'merror' to 'mlogloss'. Explicitly set eval_metric if you'd like to restore the old behavior.\n"
     ]
    },
    {
     "name": "stderr",
     "output_type": "stream",
     "text": [
      "f:\\python\\lib\\site-packages\\xgboost\\sklearn.py:1146: UserWarning: The use of label encoder in XGBClassifier is deprecated and will be removed in a future release. To remove this warning, do the following: 1) Pass option use_label_encoder=False when constructing XGBClassifier object; and 2) Encode your labels (y) as integers starting with 0, i.e. 0, 1, 2, ..., [num_class - 1].\n",
      "  warnings.warn(label_encoder_deprecation_msg, UserWarning)\n"
     ]
    },
    {
     "name": "stdout",
     "output_type": "stream",
     "text": [
      "[16:52:57] WARNING: C:/Users/Administrator/workspace/xgboost-win64_release_1.4.0/src/learner.cc:1095: Starting in XGBoost 1.3.0, the default evaluation metric used with the objective 'multi:softprob' was changed from 'merror' to 'mlogloss'. Explicitly set eval_metric if you'd like to restore the old behavior.\n"
     ]
    },
    {
     "name": "stderr",
     "output_type": "stream",
     "text": [
      "f:\\python\\lib\\site-packages\\xgboost\\sklearn.py:1146: UserWarning: The use of label encoder in XGBClassifier is deprecated and will be removed in a future release. To remove this warning, do the following: 1) Pass option use_label_encoder=False when constructing XGBClassifier object; and 2) Encode your labels (y) as integers starting with 0, i.e. 0, 1, 2, ..., [num_class - 1].\n",
      "  warnings.warn(label_encoder_deprecation_msg, UserWarning)\n"
     ]
    },
    {
     "name": "stdout",
     "output_type": "stream",
     "text": [
      "[16:53:30] WARNING: C:/Users/Administrator/workspace/xgboost-win64_release_1.4.0/src/learner.cc:1095: Starting in XGBoost 1.3.0, the default evaluation metric used with the objective 'multi:softprob' was changed from 'merror' to 'mlogloss'. Explicitly set eval_metric if you'd like to restore the old behavior.\n"
     ]
    },
    {
     "data": {
      "text/plain": [
       "array([0.64993565, 0.65379665, 0.6567933 , 0.67417901, 0.64584675])"
      ]
     },
     "execution_count": 78,
     "metadata": {},
     "output_type": "execute_result"
    }
   ],
   "source": [
    "scores = cross_val_score(eclf, X_train, y_train, cv=5)\n",
    "scores"
   ]
  },
  {
   "cell_type": "code",
   "execution_count": 79,
   "metadata": {},
   "outputs": [
    {
     "name": "stderr",
     "output_type": "stream",
     "text": [
      "f:\\python\\lib\\site-packages\\xgboost\\sklearn.py:1146: UserWarning: The use of label encoder in XGBClassifier is deprecated and will be removed in a future release. To remove this warning, do the following: 1) Pass option use_label_encoder=False when constructing XGBClassifier object; and 2) Encode your labels (y) as integers starting with 0, i.e. 0, 1, 2, ..., [num_class - 1].\n",
      "  warnings.warn(label_encoder_deprecation_msg, UserWarning)\n"
     ]
    },
    {
     "name": "stdout",
     "output_type": "stream",
     "text": [
      "[16:54:57] WARNING: C:/Users/Administrator/workspace/xgboost-win64_release_1.4.0/src/learner.cc:1095: Starting in XGBoost 1.3.0, the default evaluation metric used with the objective 'multi:softprob' was changed from 'merror' to 'mlogloss'. Explicitly set eval_metric if you'd like to restore the old behavior.\n"
     ]
    }
   ],
   "source": [
    "eclf = eclf.fit(X_train,y_train)"
   ]
  },
  {
   "cell_type": "code",
   "execution_count": 80,
   "metadata": {},
   "outputs": [
    {
     "data": {
      "image/png": "[encoded data removed]",
      "text/plain": [
       "<Figure size 720x720 with 2 Axes>"
      ]
     },
     "metadata": {
      "needs_background": "light"
     },
     "output_type": "display_data"
    }
   ],
   "source": [
    "third_method = check_score(eclf, X_test, y_test)"
   ]
  },
  {
   "cell_type": "code",
   "execution_count": 81,
   "metadata": {},
   "outputs": [
    {
     "data": {
      "text/plain": [
       "ACC       0.670145\n",
       "Recall    0.666007\n",
       "F1        0.599683\n",
       "AUC       0.816778\n",
       "dtype: float64"
      ]
     },
     "execution_count": 81,
     "metadata": {},
     "output_type": "execute_result"
    }
   ],
   "source": [
    "third_method"
   ]
  },
  {
   "cell_type": "code",
   "execution_count": 83,
   "metadata": {},
   "outputs": [],
   "source": [
    "prediction = eclf.predict(X_test)\n",
    "df = pd.DataFrame(prediction)"
   ]
  },
  {
   "cell_type": "code",
   "execution_count": 84,
   "metadata": {},
   "outputs": [],
   "source": [
    "df.to_excel(\"boosting.xlsx\")"
   ]
  },
  {
   "cell_type": "markdown",
   "metadata": {},
   "source": [
    "## Zadanie 4."
   ]
  },
  {
   "cell_type": "code",
   "execution_count": 87,
   "metadata": {},
   "outputs": [],
   "source": [
    "comparision = pd.DataFrame({\n",
    "  \"First exercise\": first_method,\n",
    "  \"Second exercise\": second_method,\n",
    "  \"Third exercise\": third_method\n",
    "})"
   ]
  },
  {
   "cell_type": "code",
   "execution_count": 89,
   "metadata": {},
   "outputs": [
    {
     "data": {
      "text/html": [
       "<div>\n",
       "<style scoped>\n",
       "    .dataframe tbody tr th:only-of-type {\n",
       "        vertical-align: middle;\n",
       "    }\n",
       "\n",
       "    .dataframe tbody tr th {\n",
       "        vertical-align: top;\n",
       "    }\n",
       "\n",
       "    .dataframe thead th {\n",
       "        text-align: right;\n",
       "    }\n",
       "</style>\n",
       "<table border=\"1\" class=\"dataframe\">\n",
       "  <thead>\n",
       "    <tr style=\"text-align: right;\">\n",
       "      <th></th>\n",
       "      <th>First exercise</th>\n",
       "      <th>Second exercise</th>\n",
       "      <th>Third exercise</th>\n",
       "    </tr>\n",
       "  </thead>\n",
       "  <tbody>\n",
       "    <tr>\n",
       "      <th>ACC</th>\n",
       "      <td>0.842188</td>\n",
       "      <td>0.865908</td>\n",
       "      <td>0.670145</td>\n",
       "    </tr>\n",
       "    <tr>\n",
       "      <th>Recall</th>\n",
       "      <td>0.703282</td>\n",
       "      <td>0.698986</td>\n",
       "      <td>0.666007</td>\n",
       "    </tr>\n",
       "    <tr>\n",
       "      <th>F1</th>\n",
       "      <td>0.721730</td>\n",
       "      <td>0.724485</td>\n",
       "      <td>0.599683</td>\n",
       "    </tr>\n",
       "    <tr>\n",
       "      <th>AUC</th>\n",
       "      <td>0.843937</td>\n",
       "      <td>0.842947</td>\n",
       "      <td>0.816778</td>\n",
       "    </tr>\n",
       "  </tbody>\n",
       "</table>\n",
       "</div>"
      ],
      "text/plain": [
       "        First exercise  Second exercise  Third exercise\n",
       "ACC           0.842188         0.865908        0.670145\n",
       "Recall        0.703282         0.698986        0.666007\n",
       "F1            0.721730         0.724485        0.599683\n",
       "AUC           0.843937         0.842947        0.816778"
      ]
     },
     "execution_count": 89,
     "metadata": {},
     "output_type": "execute_result"
    }
   ],
   "source": [
    "comparision"
   ]
  },
  {
   "cell_type": "code",
   "execution_count": 90,
   "metadata": {},
   "outputs": [],
   "source": [
    "comparision.to_excel(\"comparision.xlsx\")"
   ]
  }
 ],
 "metadata": {
  "kernelspec": {
   "display_name": "Python 3",
   "language": "python",
   "name": "python3"
  },
  "language_info": {
   "codemirror_mode": {
    "name": "ipython",
    "version": 3
   },
   "file_extension": ".py",
   "mimetype": "text/x-python",
   "name": "python",
   "nbconvert_exporter": "python",
   "pygments_lexer": "ipython3",
   "version": "3.9.2"
  }
 },
 "nbformat": 4,
 "nbformat_minor": 4
}
