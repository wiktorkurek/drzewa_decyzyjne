{
 "cells": [
  {
   "cell_type": "markdown",
   "id": "color-input",
   "metadata": {},
   "source": [
    "## LAB 4 - Wiktor Kurek, Dawid Stachowiak"
   ]
  },
  {
   "cell_type": "code",
   "execution_count": 1,
   "id": "religious-warning",
   "metadata": {},
   "outputs": [],
   "source": [
    "import numpy as np\n",
    "import pandas as pd"
   ]
  },
  {
   "cell_type": "markdown",
   "id": "romance-benjamin",
   "metadata": {},
   "source": [
    "### Zadanie 1."
   ]
  },
  {
   "cell_type": "code",
   "execution_count": 2,
   "id": "collective-academy",
   "metadata": {},
   "outputs": [],
   "source": [
    "X_train = np.loadtxt(\"D:/Studia/Semestr VI/Drzewa_decyzyjne/hapt/Train/X_train.txt\")\n",
    "y_train = np.loadtxt(\"D:/Studia/Semestr VI/Drzewa_decyzyjne/hapt/Train/y_train.txt\")\n",
    "\n",
    "X_test = np.loadtxt(\"D:/Studia/Semestr VI/Drzewa_decyzyjne/hapt/Test/X_test.txt\")\n",
    "y_test = np.loadtxt(\"D:/Studia/Semestr VI/Drzewa_decyzyjne/hapt/Test/y_test.txt\")\n",
    "\n",
    "X_train = pd.DataFrame(X_train)\n",
    "y_train = pd.DataFrame(y_train)\n",
    "X_test = pd.DataFrame(X_test)\n",
    "y_test = pd.DataFrame(y_test)"
   ]
  },
  {
   "cell_type": "code",
   "execution_count": 3,
   "id": "purple-electricity",
   "metadata": {},
   "outputs": [
    {
     "data": {
      "text/html": [
       "<div>\n",
       "<style scoped>\n",
       "    .dataframe tbody tr th:only-of-type {\n",
       "        vertical-align: middle;\n",
       "    }\n",
       "\n",
       "    .dataframe tbody tr th {\n",
       "        vertical-align: top;\n",
       "    }\n",
       "\n",
       "    .dataframe thead th {\n",
       "        text-align: right;\n",
       "    }\n",
       "</style>\n",
       "<table border=\"1\" class=\"dataframe\">\n",
       "  <thead>\n",
       "    <tr style=\"text-align: right;\">\n",
       "      <th></th>\n",
       "      <th>0</th>\n",
       "      <th>1</th>\n",
       "      <th>2</th>\n",
       "      <th>3</th>\n",
       "      <th>4</th>\n",
       "      <th>5</th>\n",
       "      <th>6</th>\n",
       "      <th>7</th>\n",
       "      <th>8</th>\n",
       "      <th>9</th>\n",
       "      <th>...</th>\n",
       "      <th>551</th>\n",
       "      <th>552</th>\n",
       "      <th>553</th>\n",
       "      <th>554</th>\n",
       "      <th>555</th>\n",
       "      <th>556</th>\n",
       "      <th>557</th>\n",
       "      <th>558</th>\n",
       "      <th>559</th>\n",
       "      <th>560</th>\n",
       "    </tr>\n",
       "  </thead>\n",
       "  <tbody>\n",
       "    <tr>\n",
       "      <th>0</th>\n",
       "      <td>0.043580</td>\n",
       "      <td>-0.005970</td>\n",
       "      <td>-0.035054</td>\n",
       "      <td>-0.995381</td>\n",
       "      <td>-0.988366</td>\n",
       "      <td>-0.937382</td>\n",
       "      <td>-0.995007</td>\n",
       "      <td>-0.988816</td>\n",
       "      <td>-0.953325</td>\n",
       "      <td>-0.794796</td>\n",
       "      <td>...</td>\n",
       "      <td>-0.012236</td>\n",
       "      <td>-0.314848</td>\n",
       "      <td>-0.713308</td>\n",
       "      <td>-0.112754</td>\n",
       "      <td>0.030400</td>\n",
       "      <td>-0.464761</td>\n",
       "      <td>-0.018446</td>\n",
       "      <td>-0.841559</td>\n",
       "      <td>0.179913</td>\n",
       "      <td>-0.051718</td>\n",
       "    </tr>\n",
       "    <tr>\n",
       "      <th>1</th>\n",
       "      <td>0.039480</td>\n",
       "      <td>-0.002131</td>\n",
       "      <td>-0.029067</td>\n",
       "      <td>-0.998348</td>\n",
       "      <td>-0.982945</td>\n",
       "      <td>-0.971273</td>\n",
       "      <td>-0.998702</td>\n",
       "      <td>-0.983315</td>\n",
       "      <td>-0.974000</td>\n",
       "      <td>-0.802537</td>\n",
       "      <td>...</td>\n",
       "      <td>0.202804</td>\n",
       "      <td>-0.603199</td>\n",
       "      <td>-0.860677</td>\n",
       "      <td>0.053477</td>\n",
       "      <td>-0.007435</td>\n",
       "      <td>-0.732626</td>\n",
       "      <td>0.703511</td>\n",
       "      <td>-0.845092</td>\n",
       "      <td>0.180261</td>\n",
       "      <td>-0.047436</td>\n",
       "    </tr>\n",
       "    <tr>\n",
       "      <th>2</th>\n",
       "      <td>0.039978</td>\n",
       "      <td>-0.005153</td>\n",
       "      <td>-0.022651</td>\n",
       "      <td>-0.995482</td>\n",
       "      <td>-0.977314</td>\n",
       "      <td>-0.984760</td>\n",
       "      <td>-0.996415</td>\n",
       "      <td>-0.975835</td>\n",
       "      <td>-0.985973</td>\n",
       "      <td>-0.798477</td>\n",
       "      <td>...</td>\n",
       "      <td>0.440079</td>\n",
       "      <td>-0.404427</td>\n",
       "      <td>-0.761847</td>\n",
       "      <td>-0.118559</td>\n",
       "      <td>0.177899</td>\n",
       "      <td>0.100699</td>\n",
       "      <td>0.808529</td>\n",
       "      <td>-0.849230</td>\n",
       "      <td>0.180610</td>\n",
       "      <td>-0.042271</td>\n",
       "    </tr>\n",
       "    <tr>\n",
       "      <th>3</th>\n",
       "      <td>0.039785</td>\n",
       "      <td>-0.011809</td>\n",
       "      <td>-0.028916</td>\n",
       "      <td>-0.996194</td>\n",
       "      <td>-0.988569</td>\n",
       "      <td>-0.993256</td>\n",
       "      <td>-0.996994</td>\n",
       "      <td>-0.988526</td>\n",
       "      <td>-0.993135</td>\n",
       "      <td>-0.798477</td>\n",
       "      <td>...</td>\n",
       "      <td>0.430891</td>\n",
       "      <td>-0.138373</td>\n",
       "      <td>-0.491604</td>\n",
       "      <td>-0.036788</td>\n",
       "      <td>-0.012892</td>\n",
       "      <td>0.640011</td>\n",
       "      <td>-0.485366</td>\n",
       "      <td>-0.848947</td>\n",
       "      <td>0.181907</td>\n",
       "      <td>-0.040826</td>\n",
       "    </tr>\n",
       "    <tr>\n",
       "      <th>4</th>\n",
       "      <td>0.038758</td>\n",
       "      <td>-0.002289</td>\n",
       "      <td>-0.023863</td>\n",
       "      <td>-0.998241</td>\n",
       "      <td>-0.986774</td>\n",
       "      <td>-0.993115</td>\n",
       "      <td>-0.998216</td>\n",
       "      <td>-0.986479</td>\n",
       "      <td>-0.993825</td>\n",
       "      <td>-0.801982</td>\n",
       "      <td>...</td>\n",
       "      <td>0.137735</td>\n",
       "      <td>-0.366214</td>\n",
       "      <td>-0.702490</td>\n",
       "      <td>0.123320</td>\n",
       "      <td>0.122542</td>\n",
       "      <td>0.693578</td>\n",
       "      <td>-0.615971</td>\n",
       "      <td>-0.848164</td>\n",
       "      <td>0.185124</td>\n",
       "      <td>-0.037080</td>\n",
       "    </tr>\n",
       "    <tr>\n",
       "      <th>...</th>\n",
       "      <td>...</td>\n",
       "      <td>...</td>\n",
       "      <td>...</td>\n",
       "      <td>...</td>\n",
       "      <td>...</td>\n",
       "      <td>...</td>\n",
       "      <td>...</td>\n",
       "      <td>...</td>\n",
       "      <td>...</td>\n",
       "      <td>...</td>\n",
       "      <td>...</td>\n",
       "      <td>...</td>\n",
       "      <td>...</td>\n",
       "      <td>...</td>\n",
       "      <td>...</td>\n",
       "      <td>...</td>\n",
       "      <td>...</td>\n",
       "      <td>...</td>\n",
       "      <td>...</td>\n",
       "      <td>...</td>\n",
       "      <td>...</td>\n",
       "    </tr>\n",
       "    <tr>\n",
       "      <th>7762</th>\n",
       "      <td>0.048048</td>\n",
       "      <td>-0.042445</td>\n",
       "      <td>-0.065884</td>\n",
       "      <td>-0.195448</td>\n",
       "      <td>-0.278326</td>\n",
       "      <td>-0.219954</td>\n",
       "      <td>-0.282233</td>\n",
       "      <td>-0.305861</td>\n",
       "      <td>-0.357803</td>\n",
       "      <td>0.267874</td>\n",
       "      <td>...</td>\n",
       "      <td>-0.008381</td>\n",
       "      <td>-0.596760</td>\n",
       "      <td>-0.879026</td>\n",
       "      <td>-0.190437</td>\n",
       "      <td>0.829718</td>\n",
       "      <td>0.206972</td>\n",
       "      <td>-0.425619</td>\n",
       "      <td>-0.792292</td>\n",
       "      <td>0.238580</td>\n",
       "      <td>0.056020</td>\n",
       "    </tr>\n",
       "    <tr>\n",
       "      <th>7763</th>\n",
       "      <td>0.037639</td>\n",
       "      <td>0.006430</td>\n",
       "      <td>-0.044345</td>\n",
       "      <td>-0.235372</td>\n",
       "      <td>-0.302680</td>\n",
       "      <td>-0.232843</td>\n",
       "      <td>-0.322483</td>\n",
       "      <td>-0.354464</td>\n",
       "      <td>-0.345592</td>\n",
       "      <td>0.181271</td>\n",
       "      <td>...</td>\n",
       "      <td>0.209452</td>\n",
       "      <td>-0.404418</td>\n",
       "      <td>-0.684496</td>\n",
       "      <td>0.064907</td>\n",
       "      <td>0.875679</td>\n",
       "      <td>-0.879033</td>\n",
       "      <td>0.400219</td>\n",
       "      <td>-0.772288</td>\n",
       "      <td>0.252653</td>\n",
       "      <td>0.056252</td>\n",
       "    </tr>\n",
       "    <tr>\n",
       "      <th>7764</th>\n",
       "      <td>0.037451</td>\n",
       "      <td>-0.002724</td>\n",
       "      <td>0.021009</td>\n",
       "      <td>-0.218281</td>\n",
       "      <td>-0.378082</td>\n",
       "      <td>-0.076950</td>\n",
       "      <td>-0.304446</td>\n",
       "      <td>-0.400661</td>\n",
       "      <td>-0.193071</td>\n",
       "      <td>0.113141</td>\n",
       "      <td>...</td>\n",
       "      <td>0.237003</td>\n",
       "      <td>0.000207</td>\n",
       "      <td>-0.317314</td>\n",
       "      <td>0.052806</td>\n",
       "      <td>-0.266724</td>\n",
       "      <td>0.864404</td>\n",
       "      <td>0.701169</td>\n",
       "      <td>-0.779566</td>\n",
       "      <td>0.249121</td>\n",
       "      <td>0.047071</td>\n",
       "    </tr>\n",
       "    <tr>\n",
       "      <th>7765</th>\n",
       "      <td>0.044011</td>\n",
       "      <td>-0.004536</td>\n",
       "      <td>-0.051242</td>\n",
       "      <td>-0.219202</td>\n",
       "      <td>-0.383350</td>\n",
       "      <td>-0.081035</td>\n",
       "      <td>-0.310419</td>\n",
       "      <td>-0.380233</td>\n",
       "      <td>-0.201007</td>\n",
       "      <td>0.166671</td>\n",
       "      <td>...</td>\n",
       "      <td>0.069366</td>\n",
       "      <td>0.037919</td>\n",
       "      <td>-0.356579</td>\n",
       "      <td>-0.101360</td>\n",
       "      <td>0.700740</td>\n",
       "      <td>0.936674</td>\n",
       "      <td>-0.589479</td>\n",
       "      <td>-0.785603</td>\n",
       "      <td>0.246409</td>\n",
       "      <td>0.031700</td>\n",
       "    </tr>\n",
       "    <tr>\n",
       "      <th>7766</th>\n",
       "      <td>0.068954</td>\n",
       "      <td>0.001810</td>\n",
       "      <td>-0.080323</td>\n",
       "      <td>-0.269336</td>\n",
       "      <td>-0.366553</td>\n",
       "      <td>-0.147294</td>\n",
       "      <td>-0.377332</td>\n",
       "      <td>-0.360597</td>\n",
       "      <td>-0.255505</td>\n",
       "      <td>0.321881</td>\n",
       "      <td>...</td>\n",
       "      <td>0.002496</td>\n",
       "      <td>-0.400831</td>\n",
       "      <td>-0.742972</td>\n",
       "      <td>-0.280088</td>\n",
       "      <td>-0.007739</td>\n",
       "      <td>-0.056088</td>\n",
       "      <td>-0.616956</td>\n",
       "      <td>-0.783693</td>\n",
       "      <td>0.246785</td>\n",
       "      <td>0.042981</td>\n",
       "    </tr>\n",
       "  </tbody>\n",
       "</table>\n",
       "<p>7767 rows × 561 columns</p>\n",
       "</div>"
      ],
      "text/plain": [
       "           0         1         2         3         4         5         6    \\\n",
       "0     0.043580 -0.005970 -0.035054 -0.995381 -0.988366 -0.937382 -0.995007   \n",
       "1     0.039480 -0.002131 -0.029067 -0.998348 -0.982945 -0.971273 -0.998702   \n",
       "2     0.039978 -0.005153 -0.022651 -0.995482 -0.977314 -0.984760 -0.996415   \n",
       "3     0.039785 -0.011809 -0.028916 -0.996194 -0.988569 -0.993256 -0.996994   \n",
       "4     0.038758 -0.002289 -0.023863 -0.998241 -0.986774 -0.993115 -0.998216   \n",
       "...        ...       ...       ...       ...       ...       ...       ...   \n",
       "7762  0.048048 -0.042445 -0.065884 -0.195448 -0.278326 -0.219954 -0.282233   \n",
       "7763  0.037639  0.006430 -0.044345 -0.235372 -0.302680 -0.232843 -0.322483   \n",
       "7764  0.037451 -0.002724  0.021009 -0.218281 -0.378082 -0.076950 -0.304446   \n",
       "7765  0.044011 -0.004536 -0.051242 -0.219202 -0.383350 -0.081035 -0.310419   \n",
       "7766  0.068954  0.001810 -0.080323 -0.269336 -0.366553 -0.147294 -0.377332   \n",
       "\n",
       "           7         8         9    ...       551       552       553  \\\n",
       "0    -0.988816 -0.953325 -0.794796  ... -0.012236 -0.314848 -0.713308   \n",
       "1    -0.983315 -0.974000 -0.802537  ...  0.202804 -0.603199 -0.860677   \n",
       "2    -0.975835 -0.985973 -0.798477  ...  0.440079 -0.404427 -0.761847   \n",
       "3    -0.988526 -0.993135 -0.798477  ...  0.430891 -0.138373 -0.491604   \n",
       "4    -0.986479 -0.993825 -0.801982  ...  0.137735 -0.366214 -0.702490   \n",
       "...        ...       ...       ...  ...       ...       ...       ...   \n",
       "7762 -0.305861 -0.357803  0.267874  ... -0.008381 -0.596760 -0.879026   \n",
       "7763 -0.354464 -0.345592  0.181271  ...  0.209452 -0.404418 -0.684496   \n",
       "7764 -0.400661 -0.193071  0.113141  ...  0.237003  0.000207 -0.317314   \n",
       "7765 -0.380233 -0.201007  0.166671  ...  0.069366  0.037919 -0.356579   \n",
       "7766 -0.360597 -0.255505  0.321881  ...  0.002496 -0.400831 -0.742972   \n",
       "\n",
       "           554       555       556       557       558       559       560  \n",
       "0    -0.112754  0.030400 -0.464761 -0.018446 -0.841559  0.179913 -0.051718  \n",
       "1     0.053477 -0.007435 -0.732626  0.703511 -0.845092  0.180261 -0.047436  \n",
       "2    -0.118559  0.177899  0.100699  0.808529 -0.849230  0.180610 -0.042271  \n",
       "3    -0.036788 -0.012892  0.640011 -0.485366 -0.848947  0.181907 -0.040826  \n",
       "4     0.123320  0.122542  0.693578 -0.615971 -0.848164  0.185124 -0.037080  \n",
       "...        ...       ...       ...       ...       ...       ...       ...  \n",
       "7762 -0.190437  0.829718  0.206972 -0.425619 -0.792292  0.238580  0.056020  \n",
       "7763  0.064907  0.875679 -0.879033  0.400219 -0.772288  0.252653  0.056252  \n",
       "7764  0.052806 -0.266724  0.864404  0.701169 -0.779566  0.249121  0.047071  \n",
       "7765 -0.101360  0.700740  0.936674 -0.589479 -0.785603  0.246409  0.031700  \n",
       "7766 -0.280088 -0.007739 -0.056088 -0.616956 -0.783693  0.246785  0.042981  \n",
       "\n",
       "[7767 rows x 561 columns]"
      ]
     },
     "execution_count": 3,
     "metadata": {},
     "output_type": "execute_result"
    }
   ],
   "source": [
    "X_train"
   ]
  },
  {
   "cell_type": "code",
   "execution_count": 4,
   "id": "toxic-butler",
   "metadata": {},
   "outputs": [
    {
     "data": {
      "text/html": [
       "<div>\n",
       "<style scoped>\n",
       "    .dataframe tbody tr th:only-of-type {\n",
       "        vertical-align: middle;\n",
       "    }\n",
       "\n",
       "    .dataframe tbody tr th {\n",
       "        vertical-align: top;\n",
       "    }\n",
       "\n",
       "    .dataframe thead th {\n",
       "        text-align: right;\n",
       "    }\n",
       "</style>\n",
       "<table border=\"1\" class=\"dataframe\">\n",
       "  <thead>\n",
       "    <tr style=\"text-align: right;\">\n",
       "      <th></th>\n",
       "      <th>0</th>\n",
       "    </tr>\n",
       "  </thead>\n",
       "  <tbody>\n",
       "    <tr>\n",
       "      <th>0</th>\n",
       "      <td>5.0</td>\n",
       "    </tr>\n",
       "    <tr>\n",
       "      <th>1</th>\n",
       "      <td>5.0</td>\n",
       "    </tr>\n",
       "    <tr>\n",
       "      <th>2</th>\n",
       "      <td>5.0</td>\n",
       "    </tr>\n",
       "    <tr>\n",
       "      <th>3</th>\n",
       "      <td>5.0</td>\n",
       "    </tr>\n",
       "    <tr>\n",
       "      <th>4</th>\n",
       "      <td>5.0</td>\n",
       "    </tr>\n",
       "    <tr>\n",
       "      <th>...</th>\n",
       "      <td>...</td>\n",
       "    </tr>\n",
       "    <tr>\n",
       "      <th>7762</th>\n",
       "      <td>2.0</td>\n",
       "    </tr>\n",
       "    <tr>\n",
       "      <th>7763</th>\n",
       "      <td>2.0</td>\n",
       "    </tr>\n",
       "    <tr>\n",
       "      <th>7764</th>\n",
       "      <td>2.0</td>\n",
       "    </tr>\n",
       "    <tr>\n",
       "      <th>7765</th>\n",
       "      <td>2.0</td>\n",
       "    </tr>\n",
       "    <tr>\n",
       "      <th>7766</th>\n",
       "      <td>2.0</td>\n",
       "    </tr>\n",
       "  </tbody>\n",
       "</table>\n",
       "<p>7767 rows × 1 columns</p>\n",
       "</div>"
      ],
      "text/plain": [
       "        0\n",
       "0     5.0\n",
       "1     5.0\n",
       "2     5.0\n",
       "3     5.0\n",
       "4     5.0\n",
       "...   ...\n",
       "7762  2.0\n",
       "7763  2.0\n",
       "7764  2.0\n",
       "7765  2.0\n",
       "7766  2.0\n",
       "\n",
       "[7767 rows x 1 columns]"
      ]
     },
     "execution_count": 4,
     "metadata": {},
     "output_type": "execute_result"
    }
   ],
   "source": [
    "y_train"
   ]
  },
  {
   "cell_type": "code",
   "execution_count": 5,
   "id": "electric-commissioner",
   "metadata": {},
   "outputs": [
    {
     "data": {
      "text/html": [
       "<div>\n",
       "<style scoped>\n",
       "    .dataframe tbody tr th:only-of-type {\n",
       "        vertical-align: middle;\n",
       "    }\n",
       "\n",
       "    .dataframe tbody tr th {\n",
       "        vertical-align: top;\n",
       "    }\n",
       "\n",
       "    .dataframe thead th {\n",
       "        text-align: right;\n",
       "    }\n",
       "</style>\n",
       "<table border=\"1\" class=\"dataframe\">\n",
       "  <thead>\n",
       "    <tr style=\"text-align: right;\">\n",
       "      <th></th>\n",
       "      <th>0</th>\n",
       "      <th>1</th>\n",
       "      <th>2</th>\n",
       "      <th>3</th>\n",
       "      <th>4</th>\n",
       "      <th>5</th>\n",
       "      <th>6</th>\n",
       "      <th>7</th>\n",
       "      <th>8</th>\n",
       "      <th>9</th>\n",
       "      <th>...</th>\n",
       "      <th>551</th>\n",
       "      <th>552</th>\n",
       "      <th>553</th>\n",
       "      <th>554</th>\n",
       "      <th>555</th>\n",
       "      <th>556</th>\n",
       "      <th>557</th>\n",
       "      <th>558</th>\n",
       "      <th>559</th>\n",
       "      <th>560</th>\n",
       "    </tr>\n",
       "  </thead>\n",
       "  <tbody>\n",
       "    <tr>\n",
       "      <th>0</th>\n",
       "      <td>0.030914</td>\n",
       "      <td>-0.008927</td>\n",
       "      <td>0.040382</td>\n",
       "      <td>-0.938504</td>\n",
       "      <td>-0.944626</td>\n",
       "      <td>-0.759334</td>\n",
       "      <td>-0.952398</td>\n",
       "      <td>-0.950281</td>\n",
       "      <td>-0.802483</td>\n",
       "      <td>-0.757099</td>\n",
       "      <td>...</td>\n",
       "      <td>0.122830</td>\n",
       "      <td>-0.345684</td>\n",
       "      <td>-0.709087</td>\n",
       "      <td>0.006462</td>\n",
       "      <td>0.162920</td>\n",
       "      <td>-0.825886</td>\n",
       "      <td>0.271151</td>\n",
       "      <td>-0.720559</td>\n",
       "      <td>0.276779</td>\n",
       "      <td>-0.051074</td>\n",
       "    </tr>\n",
       "    <tr>\n",
       "      <th>1</th>\n",
       "      <td>0.042548</td>\n",
       "      <td>0.001079</td>\n",
       "      <td>-0.026236</td>\n",
       "      <td>-0.975516</td>\n",
       "      <td>-0.977502</td>\n",
       "      <td>-0.960146</td>\n",
       "      <td>-0.986694</td>\n",
       "      <td>-0.978983</td>\n",
       "      <td>-0.966820</td>\n",
       "      <td>-0.757099</td>\n",
       "      <td>...</td>\n",
       "      <td>-0.314688</td>\n",
       "      <td>-0.142804</td>\n",
       "      <td>-0.600867</td>\n",
       "      <td>-0.083495</td>\n",
       "      <td>0.017500</td>\n",
       "      <td>-0.434375</td>\n",
       "      <td>0.920593</td>\n",
       "      <td>-0.698684</td>\n",
       "      <td>0.281322</td>\n",
       "      <td>-0.076825</td>\n",
       "    </tr>\n",
       "    <tr>\n",
       "      <th>2</th>\n",
       "      <td>0.038297</td>\n",
       "      <td>-0.011660</td>\n",
       "      <td>-0.025643</td>\n",
       "      <td>-0.993922</td>\n",
       "      <td>-0.979215</td>\n",
       "      <td>-0.973030</td>\n",
       "      <td>-0.994298</td>\n",
       "      <td>-0.980535</td>\n",
       "      <td>-0.977508</td>\n",
       "      <td>-0.799005</td>\n",
       "      <td>...</td>\n",
       "      <td>0.114730</td>\n",
       "      <td>-0.209525</td>\n",
       "      <td>-0.645500</td>\n",
       "      <td>-0.034956</td>\n",
       "      <td>0.202302</td>\n",
       "      <td>0.064103</td>\n",
       "      <td>0.145068</td>\n",
       "      <td>-0.703355</td>\n",
       "      <td>0.280062</td>\n",
       "      <td>-0.072302</td>\n",
       "    </tr>\n",
       "    <tr>\n",
       "      <th>3</th>\n",
       "      <td>0.036205</td>\n",
       "      <td>-0.018148</td>\n",
       "      <td>-0.025240</td>\n",
       "      <td>-0.994845</td>\n",
       "      <td>-0.981534</td>\n",
       "      <td>-0.976175</td>\n",
       "      <td>-0.995169</td>\n",
       "      <td>-0.983020</td>\n",
       "      <td>-0.980785</td>\n",
       "      <td>-0.798401</td>\n",
       "      <td>...</td>\n",
       "      <td>0.164515</td>\n",
       "      <td>-0.359352</td>\n",
       "      <td>-0.738474</td>\n",
       "      <td>-0.017067</td>\n",
       "      <td>0.154438</td>\n",
       "      <td>0.340134</td>\n",
       "      <td>0.296407</td>\n",
       "      <td>-0.699545</td>\n",
       "      <td>0.284093</td>\n",
       "      <td>-0.070079</td>\n",
       "    </tr>\n",
       "    <tr>\n",
       "      <th>4</th>\n",
       "      <td>0.038034</td>\n",
       "      <td>-0.013437</td>\n",
       "      <td>-0.032899</td>\n",
       "      <td>-0.993955</td>\n",
       "      <td>-0.977493</td>\n",
       "      <td>-0.984290</td>\n",
       "      <td>-0.994006</td>\n",
       "      <td>-0.977354</td>\n",
       "      <td>-0.985899</td>\n",
       "      <td>-0.798401</td>\n",
       "      <td>...</td>\n",
       "      <td>-0.056085</td>\n",
       "      <td>-0.544467</td>\n",
       "      <td>-0.846150</td>\n",
       "      <td>-0.002223</td>\n",
       "      <td>-0.040046</td>\n",
       "      <td>0.736715</td>\n",
       "      <td>-0.118545</td>\n",
       "      <td>-0.692849</td>\n",
       "      <td>0.290701</td>\n",
       "      <td>-0.066849</td>\n",
       "    </tr>\n",
       "    <tr>\n",
       "      <th>...</th>\n",
       "      <td>...</td>\n",
       "      <td>...</td>\n",
       "      <td>...</td>\n",
       "      <td>...</td>\n",
       "      <td>...</td>\n",
       "      <td>...</td>\n",
       "      <td>...</td>\n",
       "      <td>...</td>\n",
       "      <td>...</td>\n",
       "      <td>...</td>\n",
       "      <td>...</td>\n",
       "      <td>...</td>\n",
       "      <td>...</td>\n",
       "      <td>...</td>\n",
       "      <td>...</td>\n",
       "      <td>...</td>\n",
       "      <td>...</td>\n",
       "      <td>...</td>\n",
       "      <td>...</td>\n",
       "      <td>...</td>\n",
       "      <td>...</td>\n",
       "    </tr>\n",
       "    <tr>\n",
       "      <th>3157</th>\n",
       "      <td>0.052279</td>\n",
       "      <td>-0.038687</td>\n",
       "      <td>-0.013494</td>\n",
       "      <td>-0.287933</td>\n",
       "      <td>-0.403601</td>\n",
       "      <td>-0.431550</td>\n",
       "      <td>-0.356012</td>\n",
       "      <td>-0.433826</td>\n",
       "      <td>-0.534817</td>\n",
       "      <td>0.244280</td>\n",
       "      <td>...</td>\n",
       "      <td>0.125445</td>\n",
       "      <td>-0.390349</td>\n",
       "      <td>-0.752788</td>\n",
       "      <td>-0.337422</td>\n",
       "      <td>0.346295</td>\n",
       "      <td>0.884904</td>\n",
       "      <td>-0.698885</td>\n",
       "      <td>-0.652416</td>\n",
       "      <td>0.274605</td>\n",
       "      <td>0.190104</td>\n",
       "    </tr>\n",
       "    <tr>\n",
       "      <th>3158</th>\n",
       "      <td>0.073745</td>\n",
       "      <td>-0.024673</td>\n",
       "      <td>-0.017836</td>\n",
       "      <td>-0.305455</td>\n",
       "      <td>-0.286487</td>\n",
       "      <td>-0.417996</td>\n",
       "      <td>-0.373468</td>\n",
       "      <td>-0.354849</td>\n",
       "      <td>-0.557925</td>\n",
       "      <td>0.244280</td>\n",
       "      <td>...</td>\n",
       "      <td>0.150787</td>\n",
       "      <td>-0.336001</td>\n",
       "      <td>-0.703532</td>\n",
       "      <td>-0.736701</td>\n",
       "      <td>-0.372889</td>\n",
       "      <td>-0.657421</td>\n",
       "      <td>0.322548</td>\n",
       "      <td>-0.655858</td>\n",
       "      <td>0.273556</td>\n",
       "      <td>0.187748</td>\n",
       "    </tr>\n",
       "    <tr>\n",
       "      <th>3159</th>\n",
       "      <td>0.068334</td>\n",
       "      <td>0.043822</td>\n",
       "      <td>-0.024135</td>\n",
       "      <td>-0.329706</td>\n",
       "      <td>-0.335273</td>\n",
       "      <td>-0.456965</td>\n",
       "      <td>-0.387944</td>\n",
       "      <td>-0.423504</td>\n",
       "      <td>-0.604403</td>\n",
       "      <td>0.079255</td>\n",
       "      <td>...</td>\n",
       "      <td>-0.004765</td>\n",
       "      <td>-0.139894</td>\n",
       "      <td>-0.476335</td>\n",
       "      <td>-0.181560</td>\n",
       "      <td>0.088574</td>\n",
       "      <td>0.696664</td>\n",
       "      <td>0.363139</td>\n",
       "      <td>-0.656034</td>\n",
       "      <td>0.274457</td>\n",
       "      <td>0.186527</td>\n",
       "    </tr>\n",
       "    <tr>\n",
       "      <th>3160</th>\n",
       "      <td>0.023016</td>\n",
       "      <td>0.032345</td>\n",
       "      <td>-0.011830</td>\n",
       "      <td>-0.323182</td>\n",
       "      <td>-0.465502</td>\n",
       "      <td>-0.426108</td>\n",
       "      <td>-0.392307</td>\n",
       "      <td>-0.520848</td>\n",
       "      <td>-0.569571</td>\n",
       "      <td>0.079255</td>\n",
       "      <td>...</td>\n",
       "      <td>0.013540</td>\n",
       "      <td>-0.224141</td>\n",
       "      <td>-0.623083</td>\n",
       "      <td>0.444558</td>\n",
       "      <td>-0.819188</td>\n",
       "      <td>0.929294</td>\n",
       "      <td>-0.008398</td>\n",
       "      <td>-0.660387</td>\n",
       "      <td>0.264759</td>\n",
       "      <td>0.192865</td>\n",
       "    </tr>\n",
       "    <tr>\n",
       "      <th>3161</th>\n",
       "      <td>-0.010846</td>\n",
       "      <td>-0.004134</td>\n",
       "      <td>-0.037678</td>\n",
       "      <td>-0.330114</td>\n",
       "      <td>-0.441542</td>\n",
       "      <td>-0.394796</td>\n",
       "      <td>-0.430898</td>\n",
       "      <td>-0.480065</td>\n",
       "      <td>-0.533532</td>\n",
       "      <td>-0.031137</td>\n",
       "      <td>...</td>\n",
       "      <td>0.046926</td>\n",
       "      <td>-0.094539</td>\n",
       "      <td>-0.446862</td>\n",
       "      <td>0.598808</td>\n",
       "      <td>-0.287951</td>\n",
       "      <td>0.876030</td>\n",
       "      <td>-0.024965</td>\n",
       "      <td>-0.660748</td>\n",
       "      <td>0.263914</td>\n",
       "      <td>0.193402</td>\n",
       "    </tr>\n",
       "  </tbody>\n",
       "</table>\n",
       "<p>3162 rows × 561 columns</p>\n",
       "</div>"
      ],
      "text/plain": [
       "           0         1         2         3         4         5         6    \\\n",
       "0     0.030914 -0.008927  0.040382 -0.938504 -0.944626 -0.759334 -0.952398   \n",
       "1     0.042548  0.001079 -0.026236 -0.975516 -0.977502 -0.960146 -0.986694   \n",
       "2     0.038297 -0.011660 -0.025643 -0.993922 -0.979215 -0.973030 -0.994298   \n",
       "3     0.036205 -0.018148 -0.025240 -0.994845 -0.981534 -0.976175 -0.995169   \n",
       "4     0.038034 -0.013437 -0.032899 -0.993955 -0.977493 -0.984290 -0.994006   \n",
       "...        ...       ...       ...       ...       ...       ...       ...   \n",
       "3157  0.052279 -0.038687 -0.013494 -0.287933 -0.403601 -0.431550 -0.356012   \n",
       "3158  0.073745 -0.024673 -0.017836 -0.305455 -0.286487 -0.417996 -0.373468   \n",
       "3159  0.068334  0.043822 -0.024135 -0.329706 -0.335273 -0.456965 -0.387944   \n",
       "3160  0.023016  0.032345 -0.011830 -0.323182 -0.465502 -0.426108 -0.392307   \n",
       "3161 -0.010846 -0.004134 -0.037678 -0.330114 -0.441542 -0.394796 -0.430898   \n",
       "\n",
       "           7         8         9    ...       551       552       553  \\\n",
       "0    -0.950281 -0.802483 -0.757099  ...  0.122830 -0.345684 -0.709087   \n",
       "1    -0.978983 -0.966820 -0.757099  ... -0.314688 -0.142804 -0.600867   \n",
       "2    -0.980535 -0.977508 -0.799005  ...  0.114730 -0.209525 -0.645500   \n",
       "3    -0.983020 -0.980785 -0.798401  ...  0.164515 -0.359352 -0.738474   \n",
       "4    -0.977354 -0.985899 -0.798401  ... -0.056085 -0.544467 -0.846150   \n",
       "...        ...       ...       ...  ...       ...       ...       ...   \n",
       "3157 -0.433826 -0.534817  0.244280  ...  0.125445 -0.390349 -0.752788   \n",
       "3158 -0.354849 -0.557925  0.244280  ...  0.150787 -0.336001 -0.703532   \n",
       "3159 -0.423504 -0.604403  0.079255  ... -0.004765 -0.139894 -0.476335   \n",
       "3160 -0.520848 -0.569571  0.079255  ...  0.013540 -0.224141 -0.623083   \n",
       "3161 -0.480065 -0.533532 -0.031137  ...  0.046926 -0.094539 -0.446862   \n",
       "\n",
       "           554       555       556       557       558       559       560  \n",
       "0     0.006462  0.162920 -0.825886  0.271151 -0.720559  0.276779 -0.051074  \n",
       "1    -0.083495  0.017500 -0.434375  0.920593 -0.698684  0.281322 -0.076825  \n",
       "2    -0.034956  0.202302  0.064103  0.145068 -0.703355  0.280062 -0.072302  \n",
       "3    -0.017067  0.154438  0.340134  0.296407 -0.699545  0.284093 -0.070079  \n",
       "4    -0.002223 -0.040046  0.736715 -0.118545 -0.692849  0.290701 -0.066849  \n",
       "...        ...       ...       ...       ...       ...       ...       ...  \n",
       "3157 -0.337422  0.346295  0.884904 -0.698885 -0.652416  0.274605  0.190104  \n",
       "3158 -0.736701 -0.372889 -0.657421  0.322548 -0.655858  0.273556  0.187748  \n",
       "3159 -0.181560  0.088574  0.696664  0.363139 -0.656034  0.274457  0.186527  \n",
       "3160  0.444558 -0.819188  0.929294 -0.008398 -0.660387  0.264759  0.192865  \n",
       "3161  0.598808 -0.287951  0.876030 -0.024965 -0.660748  0.263914  0.193402  \n",
       "\n",
       "[3162 rows x 561 columns]"
      ]
     },
     "execution_count": 5,
     "metadata": {},
     "output_type": "execute_result"
    }
   ],
   "source": [
    "X_test"
   ]
  },
  {
   "cell_type": "code",
   "execution_count": 6,
   "id": "detected-asset",
   "metadata": {},
   "outputs": [
    {
     "data": {
      "text/html": [
       "<div>\n",
       "<style scoped>\n",
       "    .dataframe tbody tr th:only-of-type {\n",
       "        vertical-align: middle;\n",
       "    }\n",
       "\n",
       "    .dataframe tbody tr th {\n",
       "        vertical-align: top;\n",
       "    }\n",
       "\n",
       "    .dataframe thead th {\n",
       "        text-align: right;\n",
       "    }\n",
       "</style>\n",
       "<table border=\"1\" class=\"dataframe\">\n",
       "  <thead>\n",
       "    <tr style=\"text-align: right;\">\n",
       "      <th></th>\n",
       "      <th>0</th>\n",
       "    </tr>\n",
       "  </thead>\n",
       "  <tbody>\n",
       "    <tr>\n",
       "      <th>0</th>\n",
       "      <td>5.0</td>\n",
       "    </tr>\n",
       "    <tr>\n",
       "      <th>1</th>\n",
       "      <td>5.0</td>\n",
       "    </tr>\n",
       "    <tr>\n",
       "      <th>2</th>\n",
       "      <td>5.0</td>\n",
       "    </tr>\n",
       "    <tr>\n",
       "      <th>3</th>\n",
       "      <td>5.0</td>\n",
       "    </tr>\n",
       "    <tr>\n",
       "      <th>4</th>\n",
       "      <td>5.0</td>\n",
       "    </tr>\n",
       "    <tr>\n",
       "      <th>...</th>\n",
       "      <td>...</td>\n",
       "    </tr>\n",
       "    <tr>\n",
       "      <th>3157</th>\n",
       "      <td>2.0</td>\n",
       "    </tr>\n",
       "    <tr>\n",
       "      <th>3158</th>\n",
       "      <td>2.0</td>\n",
       "    </tr>\n",
       "    <tr>\n",
       "      <th>3159</th>\n",
       "      <td>2.0</td>\n",
       "    </tr>\n",
       "    <tr>\n",
       "      <th>3160</th>\n",
       "      <td>2.0</td>\n",
       "    </tr>\n",
       "    <tr>\n",
       "      <th>3161</th>\n",
       "      <td>2.0</td>\n",
       "    </tr>\n",
       "  </tbody>\n",
       "</table>\n",
       "<p>3162 rows × 1 columns</p>\n",
       "</div>"
      ],
      "text/plain": [
       "        0\n",
       "0     5.0\n",
       "1     5.0\n",
       "2     5.0\n",
       "3     5.0\n",
       "4     5.0\n",
       "...   ...\n",
       "3157  2.0\n",
       "3158  2.0\n",
       "3159  2.0\n",
       "3160  2.0\n",
       "3161  2.0\n",
       "\n",
       "[3162 rows x 1 columns]"
      ]
     },
     "execution_count": 6,
     "metadata": {},
     "output_type": "execute_result"
    }
   ],
   "source": [
    "y_test"
   ]
  },
  {
   "cell_type": "markdown",
   "id": "racial-puzzle",
   "metadata": {},
   "source": [
    "### Zadanie 2."
   ]
  },
  {
   "cell_type": "code",
   "execution_count": 7,
   "id": "micro-numbers",
   "metadata": {},
   "outputs": [],
   "source": [
    "from sklearn import svm"
   ]
  },
  {
   "cell_type": "code",
   "execution_count": 8,
   "id": "expected-profit",
   "metadata": {},
   "outputs": [],
   "source": [
    "X_train = X_train.values\n",
    "y_train = y_train.values.ravel() # cause of error:  Please change the shape of y to (n_samples, ), for example using ravel()\n",
    "\n",
    "X_test = X_test.values\n",
    "y_test = y_test.values.ravel()"
   ]
  },
  {
   "cell_type": "code",
   "execution_count": 9,
   "id": "affiliated-wallet",
   "metadata": {},
   "outputs": [
    {
     "data": {
      "text/plain": [
       "SVC()"
      ]
     },
     "execution_count": 9,
     "metadata": {},
     "output_type": "execute_result"
    }
   ],
   "source": [
    "SVM = svm.SVC()\n",
    "\n",
    "SVM.fit(X_train, y_train)"
   ]
  },
  {
   "cell_type": "code",
   "execution_count": 10,
   "id": "wireless-corrections",
   "metadata": {},
   "outputs": [],
   "source": [
    "from sklearn.neighbors import KNeighborsClassifier"
   ]
  },
  {
   "cell_type": "code",
   "execution_count": 11,
   "id": "driving-designation",
   "metadata": {},
   "outputs": [
    {
     "data": {
      "text/plain": [
       "KNeighborsClassifier()"
      ]
     },
     "execution_count": 11,
     "metadata": {},
     "output_type": "execute_result"
    }
   ],
   "source": [
    "kNN = KNeighborsClassifier()\n",
    "kNN.fit(X_train, y_train)"
   ]
  },
  {
   "cell_type": "code",
   "execution_count": 12,
   "id": "rubber-multiple",
   "metadata": {},
   "outputs": [],
   "source": [
    "from sklearn.tree import DecisionTreeClassifier"
   ]
  },
  {
   "cell_type": "code",
   "execution_count": 13,
   "id": "subjective-allah",
   "metadata": {},
   "outputs": [
    {
     "data": {
      "text/plain": [
       "DecisionTreeClassifier()"
      ]
     },
     "execution_count": 13,
     "metadata": {},
     "output_type": "execute_result"
    }
   ],
   "source": [
    "decision_tree = DecisionTreeClassifier()\n",
    "decision_tree.fit(X_train, y_train)"
   ]
  },
  {
   "cell_type": "code",
   "execution_count": 14,
   "id": "mature-parameter",
   "metadata": {},
   "outputs": [],
   "source": [
    "from sklearn.ensemble import RandomForestClassifier"
   ]
  },
  {
   "cell_type": "code",
   "execution_count": 15,
   "id": "electronic-retirement",
   "metadata": {},
   "outputs": [
    {
     "data": {
      "text/plain": [
       "RandomForestClassifier()"
      ]
     },
     "execution_count": 15,
     "metadata": {},
     "output_type": "execute_result"
    }
   ],
   "source": [
    "random_forest = RandomForestClassifier()\n",
    "random_forest.fit(X_train, y_train)"
   ]
  },
  {
   "cell_type": "markdown",
   "id": "experienced-touch",
   "metadata": {},
   "source": [
    "### Zadanie 3. A"
   ]
  },
  {
   "cell_type": "code",
   "execution_count": 16,
   "id": "aerial-polyester",
   "metadata": {},
   "outputs": [],
   "source": [
    "from sklearn.metrics import plot_confusion_matrix, accuracy_score, recall_score, f1_score, roc_auc_score, make_scorer\n",
    "from sklearn.preprocessing import label_binarize\n",
    "import matplotlib.pyplot as plt"
   ]
  },
  {
   "cell_type": "code",
   "execution_count": 17,
   "id": "planned-sheriff",
   "metadata": {},
   "outputs": [],
   "source": [
    "def check_score(model, X_test, y_test):\n",
    "    classes = np.arange(1, 13)\n",
    "    prediction = model.predict(X_test)\n",
    "    print(f\"acc: {accuracy_score(y_test, prediction)}\")\n",
    "    print(f\"rec: {recall_score(y_test, prediction, average='macro')}\")\n",
    "    print(f\"f1 : {f1_score(y_test, prediction, average='macro')}\")\n",
    "    print(f\"roc: {roc_auc_score(label_binarize(y_test, classes=classes),label_binarize(prediction, classes=classes), multi_class='ovr',average='macro')}\")\n",
    "    fig, ax = plt.subplots(figsize=(10, 10))\n",
    "    plot_confusion_matrix(model, X_test, y_test, ax=ax)"
   ]
  },
  {
   "cell_type": "code",
   "execution_count": 18,
   "id": "complimentary-banner",
   "metadata": {},
   "outputs": [
    {
     "name": "stdout",
     "output_type": "stream",
     "text": [
      "acc: 0.9367488931056294\n",
      "rec: 0.8315992379116254\n",
      "f1 : 0.8424773341480315\n",
      "roc: 0.9127519884019203\n"
     ]
    },
    {
     "data": {
      "image/png": "[encoded data removed]",
      "text/plain": [
       "<Figure size 720x720 with 2 Axes>"
      ]
     },
     "metadata": {
      "needs_background": "light"
     },
     "output_type": "display_data"
    }
   ],
   "source": [
    "check_score(SVM, X_test, y_test)"
   ]
  },
  {
   "cell_type": "code",
   "execution_count": 19,
   "id": "textile-centre",
   "metadata": {},
   "outputs": [
    {
     "name": "stdout",
     "output_type": "stream",
     "text": [
      "acc: 0.8848829854522454\n",
      "rec: 0.8103677778546495\n",
      "f1 : 0.8135337752124174\n",
      "roc: 0.8995627260424816\n"
     ]
    },
    {
     "data": {
      "image/png": "[encoded data removed]",
      "text/plain": [
       "<Figure size 720x720 with 2 Axes>"
      ]
     },
     "metadata": {
      "needs_background": "light"
     },
     "output_type": "display_data"
    }
   ],
   "source": [
    "check_score(kNN, X_test, y_test)"
   ]
  },
  {
   "cell_type": "code",
   "execution_count": 20,
   "id": "furnished-shock",
   "metadata": {},
   "outputs": [
    {
     "name": "stdout",
     "output_type": "stream",
     "text": [
      "acc: 0.8051865907653384\n",
      "rec: 0.7008566181868433\n",
      "f1 : 0.7020356738395411\n",
      "roc: 0.8409834347231127\n"
     ]
    },
    {
     "data": {
      "image/png": "[encoded data removed]",
      "text/plain": [
       "<Figure size 720x720 with 2 Axes>"
      ]
     },
     "metadata": {
      "needs_background": "light"
     },
     "output_type": "display_data"
    }
   ],
   "source": [
    "check_score(decision_tree, X_test, y_test)"
   ]
  },
  {
   "cell_type": "code",
   "execution_count": 21,
   "id": "defensive-producer",
   "metadata": {},
   "outputs": [
    {
     "name": "stdout",
     "output_type": "stream",
     "text": [
      "acc: 0.9165085388994307\n",
      "rec: 0.8413067426408188\n",
      "f1 : 0.8424069031476015\n",
      "roc: 0.9166118541501912\n"
     ]
    },
    {
     "data": {
      "image/png": "[encoded data removed]",
      "text/plain": [
       "<Figure size 720x720 with 2 Axes>"
      ]
     },
     "metadata": {
      "needs_background": "light"
     },
     "output_type": "display_data"
    }
   ],
   "source": [
    "check_score(random_forest, X_test, y_test)"
   ]
  },
  {
   "cell_type": "markdown",
   "id": "appropriate-customer",
   "metadata": {},
   "source": [
    "### Zadanie 3. B"
   ]
  },
  {
   "cell_type": "code",
   "execution_count": 22,
   "id": "clean-favorite",
   "metadata": {},
   "outputs": [],
   "source": [
    "from sklearn.model_selection import cross_validate"
   ]
  },
  {
   "cell_type": "code",
   "execution_count": 23,
   "id": "scenic-textbook",
   "metadata": {},
   "outputs": [],
   "source": [
    "def cross_valid(model, X, y):\n",
    "    score = cross_validate(model, X, y, cv=5)[\"test_score\"]\n",
    "    print(f\"avg: {score.mean()}\")\n",
    "    print(f\"std: {score.std()}\")"
   ]
  },
  {
   "cell_type": "code",
   "execution_count": 24,
   "id": "innocent-mills",
   "metadata": {},
   "outputs": [
    {
     "name": "stdout",
     "output_type": "stream",
     "text": [
      "avg: 0.9190214315133826\n",
      "std: 0.019589132226909587\n"
     ]
    }
   ],
   "source": [
    "cross_valid(SVM, X_train, y_train)"
   ]
  },
  {
   "cell_type": "code",
   "execution_count": 25,
   "id": "lucky-injection",
   "metadata": {},
   "outputs": [
    {
     "name": "stdout",
     "output_type": "stream",
     "text": [
      "avg: 0.8852865836124046\n",
      "std: 0.012226077745628334\n"
     ]
    }
   ],
   "source": [
    "cross_valid(kNN, X_train, y_train)"
   ]
  },
  {
   "cell_type": "code",
   "execution_count": 26,
   "id": "excellent-shareware",
   "metadata": {},
   "outputs": [
    {
     "name": "stdout",
     "output_type": "stream",
     "text": [
      "avg: 0.8349454412558082\n",
      "std: 0.02587873408328873\n"
     ]
    }
   ],
   "source": [
    "cross_valid(decision_tree, X_train, y_train)"
   ]
  },
  {
   "cell_type": "code",
   "execution_count": 27,
   "id": "racial-phoenix",
   "metadata": {},
   "outputs": [
    {
     "name": "stdout",
     "output_type": "stream",
     "text": [
      "avg: 0.9071755501246809\n",
      "std: 0.01727236747986966\n"
     ]
    }
   ],
   "source": [
    "cross_valid(random_forest, X_train, y_train)"
   ]
  },
  {
   "cell_type": "markdown",
   "id": "chinese-disaster",
   "metadata": {},
   "source": [
    "### Zadanie 4"
   ]
  },
  {
   "cell_type": "code",
   "execution_count": 28,
   "id": "architectural-lease",
   "metadata": {},
   "outputs": [],
   "source": [
    "from sklearn.model_selection import GridSearchCV\n",
    "from sklearn.svm import SVC"
   ]
  },
  {
   "cell_type": "code",
   "execution_count": 29,
   "id": "indonesian-garbage",
   "metadata": {},
   "outputs": [],
   "source": [
    "def gridsearch_svm(X, y):\n",
    "    C = (0.1, 1.0, 5.0, 10.0)\n",
    "    kernels = (\"rbf\", \"linear\" , \"poly\", \"sigmoid\")\n",
    "    params = {\"C\": C, \"kernel\": kernels, \"random_state\": (42,)}\n",
    "    search = GridSearchCV(SVC(), param_grid=params, verbose=8,\n",
    "        return_train_score=True, scoring=make_scorer(accuracy_score),\n",
    "        n_jobs=-1, cv=2)\n",
    "    search.fit(X, y)\n",
    "    return search"
   ]
  },
  {
   "cell_type": "code",
   "execution_count": 30,
   "id": "smaller-astronomy",
   "metadata": {},
   "outputs": [],
   "source": [
    "def gridsearch_knn(X, y):\n",
    "    n_neighbors = (2, 4,  16)\n",
    "    weights = (\"uniform\", \"distance\")\n",
    "    algorithm = (\"ball_tree\", \"kd_tree\")\n",
    "    params = {\"n_neighbors\": n_neighbors, \"weights\": weights,\n",
    "        \"algorithm\": algorithm}\n",
    "    search = GridSearchCV(KNeighborsClassifier(), param_grid=params,\n",
    "        verbose=8, return_train_score=True,\n",
    "        scoring=make_scorer(accuracy_score), n_jobs=-1, cv=2)\n",
    "    search.fit(X, y)\n",
    "    return search"
   ]
  },
  {
   "cell_type": "code",
   "execution_count": 31,
   "id": "universal-poker",
   "metadata": {},
   "outputs": [],
   "source": [
    "def gridsearch_tree(X, y):\n",
    "    criterion = (\"gini\", \"entropy\")\n",
    "    splitter = (\"best\", \"random\")\n",
    "    max_depth = (None, 4)\n",
    "    min_samples_split = (2, 4)\n",
    "    min_samples_leaf = (1, 2)\n",
    "\n",
    "    params = {\"criterion\": criterion, \"splitter\": splitter,\n",
    "        \"max_depth\": max_depth, \"min_samples_split\": min_samples_split,\n",
    "        \"min_samples_leaf\": min_samples_leaf, \"random_state\": (42,)}\n",
    "    search = GridSearchCV(DecisionTreeClassifier(), param_grid=params,\n",
    "        verbose=8, return_train_score=True,\n",
    "        scoring=make_scorer(accuracy_score), n_jobs=-1, cv=2)\n",
    "    search.fit(X, y)\n",
    "    return search"
   ]
  },
  {
   "cell_type": "code",
   "execution_count": 32,
   "id": "aboriginal-assignment",
   "metadata": {},
   "outputs": [],
   "source": [
    "def gridsearch_forest(X, y):\n",
    "    criterion = (\"gini\", \"entropy\")\n",
    "    n_estimators = (16, 32)\n",
    "    max_depth = (None, 4)\n",
    "    min_samples_split = (2, 4)\n",
    "    min_samples_leaf = (1, 2)\n",
    "\n",
    "    params = {\"criterion\": criterion, \"n_estimators\": n_estimators,\n",
    "        \"max_depth\": max_depth, \"min_samples_split\": min_samples_split,\n",
    "        \"min_samples_leaf\": min_samples_leaf, \"random_state\": (42,)}\n",
    "    search = GridSearchCV(RandomForestClassifier(), param_grid=params,\n",
    "        verbose=8, return_train_score=True,\n",
    "        scoring=make_scorer(accuracy_score), n_jobs=-1, cv=2)\n",
    "    search.fit(X, y)\n",
    "    return search"
   ]
  },
  {
   "cell_type": "code",
   "execution_count": 34,
   "id": "continuing-marathon",
   "metadata": {},
   "outputs": [
    {
     "name": "stdout",
     "output_type": "stream",
     "text": [
      "Fitting 2 folds for each of 16 candidates, totalling 32 fits\n",
      "0.9263560522735959\n",
      "{'C': 5.0, 'kernel': 'poly', 'random_state': 42}\n",
      "acc: 0.954775458570525\n",
      "rec: 0.8757258917797439\n",
      "f1 : 0.8828887225377406\n",
      "roc: 0.9356961453497785\n"
     ]
    },
    {
     "data": {
      "image/png": "[encoded data removed]",
      "text/plain": [
       "<Figure size 720x720 with 2 Axes>"
      ]
     },
     "metadata": {
      "needs_background": "light"
     },
     "output_type": "display_data"
    }
   ],
   "source": [
    "svm_search = gridsearch_svm(X_train, y_train)\n",
    "print(svm_search.best_score_)\n",
    "print(svm_search.best_params_)\n",
    "svm = SVC(**svm_search.best_params_)\n",
    "svm.fit(X_train, y_train)\n",
    "check_score(svm, X_test, y_test)"
   ]
  },
  {
   "cell_type": "code",
   "execution_count": 35,
   "id": "outdoor-skill",
   "metadata": {},
   "outputs": [
    {
     "name": "stdout",
     "output_type": "stream",
     "text": [
      "Fitting 2 folds for each of 12 candidates, totalling 24 fits\n",
      "0.8744697833886281\n",
      "{'algorithm': 'ball_tree', 'n_neighbors': 16, 'weights': 'distance'}\n",
      "acc: 0.8921568627450981\n",
      "rec: 0.7893505101772708\n",
      "f1 : 0.800728097386063\n",
      "roc: 0.8894224856367425\n"
     ]
    },
    {
     "data": {
      "image/png": "[encoded data removed]",
      "text/plain": [
       "<Figure size 720x720 with 2 Axes>"
      ]
     },
     "metadata": {
      "needs_background": "light"
     },
     "output_type": "display_data"
    }
   ],
   "source": [
    "knn_search = gridsearch_knn(X_train, y_train)\n",
    "print(knn_search.best_score_)\n",
    "print(knn_search.best_params_)\n",
    "knn = KNeighborsClassifier(**knn_search.best_params_)\n",
    "knn.fit(X_train, y_train)\n",
    "check_score(knn, X_test, y_test)"
   ]
  },
  {
   "cell_type": "code",
   "execution_count": 36,
   "id": "commercial-joshua",
   "metadata": {},
   "outputs": [
    {
     "name": "stdout",
     "output_type": "stream",
     "text": [
      "Fitting 2 folds for each of 32 candidates, totalling 64 fits\n",
      "0.8267044708601995\n",
      "{'criterion': 'entropy', 'max_depth': None, 'min_samples_leaf': 2, 'min_samples_split': 2, 'random_state': 42, 'splitter': 'best'}\n",
      "acc: 0.8345983554712207\n",
      "rec: 0.7236168038178491\n",
      "f1 : 0.7268654835956302\n",
      "roc: 0.8537624346230969\n"
     ]
    },
    {
     "data": {
      "image/png": "[encoded data removed]",
      "text/plain": [
       "<Figure size 720x720 with 2 Axes>"
      ]
     },
     "metadata": {
      "needs_background": "light"
     },
     "output_type": "display_data"
    }
   ],
   "source": [
    "tree_search = gridsearch_tree(X_train, y_train)\n",
    "print(tree_search.best_score_)\n",
    "print(tree_search.best_params_)\n",
    "tree = DecisionTreeClassifier(**tree_search.best_params_)\n",
    "tree.fit(X_train, y_train)\n",
    "check_score(tree, X_test, y_test)"
   ]
  },
  {
   "cell_type": "code",
   "execution_count": 37,
   "id": "wooden-sample",
   "metadata": {},
   "outputs": [
    {
     "name": "stdout",
     "output_type": "stream",
     "text": [
      "Fitting 2 folds for each of 32 candidates, totalling 64 fits\n",
      "0.9002198510871413\n",
      "{'criterion': 'entropy', 'max_depth': None, 'min_samples_leaf': 1, 'min_samples_split': 2, 'n_estimators': 32, 'random_state': 42}\n",
      "acc: 0.9123972169512966\n",
      "rec: 0.8089974257480158\n",
      "f1 : 0.8119873356448437\n",
      "roc: 0.9002628775263513\n"
     ]
    },
    {
     "data": {
      "image/png": "[encoded data removed]",
      "text/plain": [
       "<Figure size 720x720 with 2 Axes>"
      ]
     },
     "metadata": {
      "needs_background": "light"
     },
     "output_type": "display_data"
    }
   ],
   "source": [
    "forest_search = gridsearch_forest(X_train, y_train)\n",
    "print(forest_search.best_score_)\n",
    "print(forest_search.best_params_)\n",
    "forest = RandomForestClassifier(**forest_search.best_params_)\n",
    "forest.fit(X_train, y_train)\n",
    "check_score(forest, X_test, y_test)"
   ]
  }
 ],
 "metadata": {
  "kernelspec": {
   "display_name": "Python 3",
   "language": "python",
   "name": "python3"
  },
  "language_info": {
   "codemirror_mode": {
    "name": "ipython",
    "version": 3
   },
   "file_extension": ".py",
   "mimetype": "text/x-python",
   "name": "python",
   "nbconvert_exporter": "python",
   "pygments_lexer": "ipython3",
   "version": "3.9.2"
  }
 },
 "nbformat": 4,
 "nbformat_minor": 5
}
