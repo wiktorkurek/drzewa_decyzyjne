{
 "cells": [
  {
   "cell_type": "code",
   "execution_count": 15,
   "outputs": [],
   "source": [
    "import json\n",
    "import pandas as pd\n",
    "import numpy as np"
   ],
   "metadata": {
    "collapsed": false,
    "pycharm": {
     "name": "#%%\n"
    }
   }
  },
  {
   "cell_type": "markdown",
   "source": [
    "## Zadanie 1."
   ],
   "metadata": {
    "collapsed": false
   }
  },
  {
   "cell_type": "markdown",
   "source": [
    "1. Ilość wczytanych wierszy danych"
   ],
   "metadata": {
    "collapsed": false
   }
  },
  {
   "cell_type": "code",
   "execution_count": 16,
   "outputs": [
    {
     "name": "stdout",
     "output_type": "stream",
     "text": [
      "<class 'pandas.core.frame.DataFrame'>\n",
      "RangeIndex: 7787 entries, 0 to 7786\n",
      "Data columns (total 12 columns):\n",
      " #   Column        Non-Null Count  Dtype \n",
      "---  ------        --------------  ----- \n",
      " 0   show_id       7787 non-null   object\n",
      " 1   type          7787 non-null   object\n",
      " 2   title         7787 non-null   object\n",
      " 3   director      5398 non-null   object\n",
      " 4   cast          7069 non-null   object\n",
      " 5   country       7280 non-null   object\n",
      " 6   date_added    7777 non-null   object\n",
      " 7   release_year  7787 non-null   int64 \n",
      " 8   rating        7780 non-null   object\n",
      " 9   duration      7787 non-null   object\n",
      " 10  listed_in     7787 non-null   object\n",
      " 11  description   7787 non-null   object\n",
      "dtypes: int64(1), object(11)\n",
      "memory usage: 730.2+ KB\n",
      "None\n"
     ]
    }
   ],
   "source": [
    "netflix_data = pd.read_csv(\"netflix_titles.csv\")\n",
    "print(netflix_data.info())"
   ],
   "metadata": {
    "collapsed": false,
    "pycharm": {
     "name": "#%%\n"
    }
   }
  },
  {
   "cell_type": "markdown",
   "source": [
    "2. Wymiar wczytanych danych (kolumny x indeksy)"
   ],
   "metadata": {
    "collapsed": false
   }
  },
  {
   "cell_type": "code",
   "execution_count": 18,
   "outputs": [
    {
     "name": "stdout",
     "output_type": "stream",
     "text": [
      "(7787, 12)\n"
     ]
    }
   ],
   "source": [
    "print(netflix_data.shape)"
   ],
   "metadata": {
    "collapsed": false,
    "pycharm": {
     "name": "#%%\n"
    }
   }
  },
  {
   "cell_type": "markdown",
   "source": [
    "3. Zlicz ilość wartość pustych (jeśli w są) w każdej z kolumn"
   ],
   "metadata": {
    "collapsed": false
   }
  },
  {
   "cell_type": "code",
   "execution_count": 19,
   "outputs": [
    {
     "data": {
      "text/plain": "show_id            0\ntype               0\ntitle              0\ndirector        2389\ncast             718\ncountry          507\ndate_added        10\nrelease_year       0\nrating             7\nduration           0\nlisted_in          0\ndescription        0\ndtype: int64"
     },
     "execution_count": 19,
     "metadata": {},
     "output_type": "execute_result"
    }
   ],
   "source": [
    "netflix_data.isnull().sum(axis = 0)"
   ],
   "metadata": {
    "collapsed": false,
    "pycharm": {
     "name": "#%%\n"
    }
   }
  },
  {
   "cell_type": "markdown",
   "source": [
    "## Zadanie 2."
   ],
   "metadata": {
    "collapsed": false
   }
  },
  {
   "cell_type": "markdown",
   "source": [
    "1. Zlicz ile jest wartości pustych w zbiorze NaN"
   ],
   "metadata": {
    "collapsed": false
   }
  },
  {
   "cell_type": "code",
   "execution_count": 26,
   "outputs": [],
   "source": [
    "import seaborn as sns"
   ],
   "metadata": {
    "collapsed": false,
    "pycharm": {
     "name": "#%%\n"
    }
   }
  },
  {
   "cell_type": "code",
   "execution_count": 61,
   "outputs": [
    {
     "name": "stdout",
     "output_type": "stream",
     "text": [
      "<class 'pandas.core.frame.DataFrame'>\n",
      "RangeIndex: 891 entries, 0 to 890\n",
      "Data columns (total 15 columns):\n",
      " #   Column       Non-Null Count  Dtype   \n",
      "---  ------       --------------  -----   \n",
      " 0   survived     891 non-null    int64   \n",
      " 1   pclass       891 non-null    int64   \n",
      " 2   sex          891 non-null    object  \n",
      " 3   age          714 non-null    float64 \n",
      " 4   sibsp        891 non-null    int64   \n",
      " 5   parch        891 non-null    int64   \n",
      " 6   fare         891 non-null    float64 \n",
      " 7   embarked     889 non-null    object  \n",
      " 8   class        891 non-null    category\n",
      " 9   who          891 non-null    object  \n",
      " 10  adult_male   891 non-null    bool    \n",
      " 11  deck         203 non-null    category\n",
      " 12  embark_town  889 non-null    object  \n",
      " 13  alive        891 non-null    object  \n",
      " 14  alone        891 non-null    bool    \n",
      "dtypes: bool(2), category(2), float64(2), int64(4), object(5)\n",
      "memory usage: 80.7+ KB\n",
      "None\n",
      "869\n"
     ]
    }
   ],
   "source": [
    "data_titanic = sns.load_dataset(\"titanic\")\n",
    "print(data_titanic.info())\n",
    "print(data_titanic.isna().sum().sum())"
   ],
   "metadata": {
    "collapsed": false,
    "pycharm": {
     "name": "#%%\n"
    }
   }
  },
  {
   "cell_type": "markdown",
   "source": [
    "2. Zlicz ilość wartość pustych (null) w każdej kolumnie, a wynik zapisz w postaci sumy\n",
    "skumulowanej"
   ],
   "metadata": {
    "collapsed": false
   }
  },
  {
   "cell_type": "code",
   "execution_count": 57,
   "outputs": [
    {
     "name": "stdout",
     "output_type": "stream",
     "text": [
      "     survived  pclass  sex  age  sibsp  parch  fare  embarked  class  who  \\\n",
      "0           0       0    0    0      0      0     0         0      0    0   \n",
      "1           0       0    0    0      0      0     0         0      0    0   \n",
      "2           0       0    0    0      0      0     0         0      0    0   \n",
      "3           0       0    0    0      0      0     0         0      0    0   \n",
      "4           0       0    0    0      0      0     0         0      0    0   \n",
      "..        ...     ...  ...  ...    ...    ...   ...       ...    ...  ...   \n",
      "886         0       0    0  176      0      0     0         2      0    0   \n",
      "887         0       0    0  176      0      0     0         2      0    0   \n",
      "888         0       0    0  177      0      0     0         2      0    0   \n",
      "889         0       0    0  177      0      0     0         2      0    0   \n",
      "890         0       0    0  177      0      0     0         2      0    0   \n",
      "\n",
      "     adult_male  deck  embark_town  alive  alone  \n",
      "0             0     1            0      0      0  \n",
      "1             0     1            0      0      0  \n",
      "2             0     2            0      0      0  \n",
      "3             0     2            0      0      0  \n",
      "4             0     3            0      0      0  \n",
      "..          ...   ...          ...    ...    ...  \n",
      "886           0   686            2      0      0  \n",
      "887           0   686            2      0      0  \n",
      "888           0   687            2      0      0  \n",
      "889           0   687            2      0      0  \n",
      "890           0   688            2      0      0  \n",
      "\n",
      "[891 rows x 15 columns]\n"
     ]
    }
   ],
   "source": [
    "print(data_titanic.isnull().cumsum())"
   ],
   "metadata": {
    "collapsed": false,
    "pycharm": {
     "name": "#%%\n"
    }
   }
  },
  {
   "cell_type": "markdown",
   "source": [
    "3. Usuń te kolumny, jeśli takie istnieją dla których liczba wartości pustych jest większa\n",
    "niż 30% wielkości pobranego zbioru danych"
   ],
   "metadata": {
    "collapsed": false
   }
  },
  {
   "cell_type": "code",
   "execution_count": 58,
   "outputs": [
    {
     "name": "stdout",
     "output_type": "stream",
     "text": [
      "     survived  pclass     sex   age  sibsp  parch     fare embarked   class  \\\n",
      "0           0       3    male  22.0      1      0   7.2500        S   Third   \n",
      "1           1       1  female  38.0      1      0  71.2833        C   First   \n",
      "2           1       3  female  26.0      0      0   7.9250        S   Third   \n",
      "3           1       1  female  35.0      1      0  53.1000        S   First   \n",
      "4           0       3    male  35.0      0      0   8.0500        S   Third   \n",
      "..        ...     ...     ...   ...    ...    ...      ...      ...     ...   \n",
      "886         0       2    male  27.0      0      0  13.0000        S  Second   \n",
      "887         1       1  female  19.0      0      0  30.0000        S   First   \n",
      "888         0       3  female   NaN      1      2  23.4500        S   Third   \n",
      "889         1       1    male  26.0      0      0  30.0000        C   First   \n",
      "890         0       3    male  32.0      0      0   7.7500        Q   Third   \n",
      "\n",
      "       who  adult_male  embark_town alive  alone  \n",
      "0      man        True  Southampton    no  False  \n",
      "1    woman       False    Cherbourg   yes  False  \n",
      "2    woman       False  Southampton   yes   True  \n",
      "3    woman       False  Southampton   yes  False  \n",
      "4      man        True  Southampton    no   True  \n",
      "..     ...         ...          ...   ...    ...  \n",
      "886    man        True  Southampton    no   True  \n",
      "887  woman       False  Southampton   yes   True  \n",
      "888  woman       False  Southampton    no  False  \n",
      "889    man        True    Cherbourg   yes   True  \n",
      "890    man        True   Queenstown    no   True  \n",
      "\n",
      "[891 rows x 14 columns]\n"
     ]
    }
   ],
   "source": [
    "max_number_of_nans = len(data_titanic.index)*0.3\n",
    "data_titanic = data_titanic.loc[:, (data_titanic.isnull().sum(axis=0) <= max_number_of_nans)]\n",
    "print(data_titanic)"
   ],
   "metadata": {
    "collapsed": false,
    "pycharm": {
     "name": "#%%\n"
    }
   }
  },
  {
   "cell_type": "markdown",
   "source": [
    "4. Zamień dane kategoryczne w kolumnie sex {female,male} na wartości liczbowe {0,1}"
   ],
   "metadata": {
    "collapsed": false
   }
  },
  {
   "cell_type": "code",
   "execution_count": 59,
   "outputs": [
    {
     "name": "stdout",
     "output_type": "stream",
     "text": [
      "male      577\n",
      "female    314\n",
      "Name: sex, dtype: int64\n",
      "1    577\n",
      "0    314\n",
      "Name: sex, dtype: int64\n"
     ]
    }
   ],
   "source": [
    "print(data_titanic[\"sex\"].value_counts())\n",
    "x = {\"sex\": {\"female\": 0, \"male\": 1}}\n",
    "data_titanic = data_titanic.replace(x)\n",
    "print(data_titanic[\"sex\"].value_counts())"
   ],
   "metadata": {
    "collapsed": false,
    "pycharm": {
     "name": "#%%\n"
    }
   }
  },
  {
   "cell_type": "markdown",
   "source": [
    "## Zadanie 3."
   ],
   "metadata": {
    "collapsed": false
   }
  },
  {
   "cell_type": "markdown",
   "source": [
    "1. Odszukaj profil o nazwie użytkownika: MikiKru"
   ],
   "metadata": {
    "collapsed": false
   }
  },
  {
   "cell_type": "code",
   "execution_count": 65,
   "outputs": [],
   "source": [
    "import requests\n",
    "import json"
   ],
   "metadata": {
    "collapsed": false,
    "pycharm": {
     "name": "#%%\n"
    }
   }
  },
  {
   "cell_type": "code",
   "execution_count": 67,
   "outputs": [
    {
     "data": {
      "text/plain": "{'login': 'MikiKru',\n 'id': 25902843,\n 'node_id': 'MDQ6VXNlcjI1OTAyODQz',\n 'avatar_url': 'https://avatars.githubusercontent.com/u/25902843?v=4',\n 'gravatar_id': '',\n 'url': 'https://api.github.com/users/MikiKru',\n 'html_url': 'https://github.com/MikiKru',\n 'followers_url': 'https://api.github.com/users/MikiKru/followers',\n 'following_url': 'https://api.github.com/users/MikiKru/following{/other_user}',\n 'gists_url': 'https://api.github.com/users/MikiKru/gists{/gist_id}',\n 'starred_url': 'https://api.github.com/users/MikiKru/starred{/owner}{/repo}',\n 'subscriptions_url': 'https://api.github.com/users/MikiKru/subscriptions',\n 'organizations_url': 'https://api.github.com/users/MikiKru/orgs',\n 'repos_url': 'https://api.github.com/users/MikiKru/repos',\n 'events_url': 'https://api.github.com/users/MikiKru/events{/privacy}',\n 'received_events_url': 'https://api.github.com/users/MikiKru/received_events',\n 'type': 'User',\n 'site_admin': False,\n 'name': None,\n 'company': None,\n 'blog': '',\n 'location': None,\n 'email': None,\n 'hireable': None,\n 'bio': None,\n 'twitter_username': None,\n 'public_repos': 110,\n 'public_gists': 0,\n 'followers': 29,\n 'following': 0,\n 'created_at': '2017-02-20T13:14:48Z',\n 'updated_at': '2021-03-19T10:34:14Z'}"
     },
     "execution_count": 67,
     "metadata": {},
     "output_type": "execute_result"
    }
   ],
   "source": [
    "r = requests.get(\"https://api.github.com/users/MikiKru\")\n",
    "json.loads(r.content)"
   ],
   "metadata": {
    "collapsed": false,
    "pycharm": {
     "name": "#%%\n"
    }
   }
  },
  {
   "cell_type": "markdown",
   "source": [
    "2. Oblicz statystykę języków programowania publikowanych w powyższym\n",
    "repozytorium, tj. jaki udział procentowy ma danych język programowania względem\n",
    "wszystkich repozytoriów użytkownika MikiKru"
   ],
   "metadata": {
    "collapsed": false
   }
  },
  {
   "cell_type": "code",
   "execution_count": 69,
   "outputs": [
    {
     "name": "stdout",
     "output_type": "stream",
     "text": [
      "['Python', 'None', 'Python', 'Java', 'Python', 'Java', 'Java', 'Java', 'C++', 'C++', 'C++', 'C++', 'TSQL', 'C#', 'Java', 'None', 'None', 'Jupyter Notebook', 'None', 'Java', 'Java', 'CMake', 'Java', 'Java', 'Java', 'Java', 'Java', 'Java', 'Java', 'Java']\n"
     ]
    }
   ],
   "source": [
    "r = requests.get(\"https://api.github.com/users/MikiKru/repos\")\n",
    "repositories = json.loads(r.content)\n",
    "languages = [str(repo[\"language\"]) for repo in repositories]\n",
    "print(languages)"
   ],
   "metadata": {
    "collapsed": false,
    "pycharm": {
     "name": "#%%\n"
    }
   }
  },
  {
   "cell_type": "code",
   "execution_count": 70,
   "outputs": [
    {
     "name": "stdout",
     "output_type": "stream",
     "text": [
      "(array(['C#', 'C++', 'CMake', 'Java', 'Jupyter Notebook', 'None', 'Python',\n",
      "       'TSQL'], dtype='<U16'), array([ 1,  4,  1, 15,  1,  4,  3,  1], dtype=int64))\n"
     ]
    }
   ],
   "source": [
    "languages_info = np.unique(languages, return_counts=True)\n",
    "print(languages_info)"
   ],
   "metadata": {
    "collapsed": false,
    "pycharm": {
     "name": "#%%\n"
    }
   }
  },
  {
   "cell_type": "markdown",
   "source": [
    "3. Wynik zaprezentuj ja pomocą wykresu kołowego"
   ],
   "metadata": {
    "collapsed": false
   }
  },
  {
   "cell_type": "code",
   "execution_count": 71,
   "outputs": [],
   "source": [
    "import matplotlib.pyplot as plt"
   ],
   "metadata": {
    "collapsed": false,
    "pycharm": {
     "name": "#%%\n"
    }
   }
  },
  {
   "cell_type": "code",
   "execution_count": 72,
   "outputs": [
    {
     "data": {
      "text/plain": "<Figure size 1440x1440 with 1 Axes>",
      "image/png": "[encoded data removed]"
     },
     "metadata": {},
     "output_type": "display_data"
    }
   ],
   "source": [
    "plt.figure(figsize=(20, 20))\n",
    "plt.pie(languages_info[1], labels=languages_info[0], autopct='%1.1f%%')\n",
    "plt.show()"
   ],
   "metadata": {
    "collapsed": false,
    "pycharm": {
     "name": "#%%\n"
    }
   }
  },
  {
   "cell_type": "markdown",
   "source": [
    "## Zadanie 4."
   ],
   "metadata": {
    "collapsed": false,
    "pycharm": {
     "name": "#%% md\n"
    }
   }
  },
  {
   "cell_type": "code",
   "execution_count": 89,
   "outputs": [],
   "source": [
    "from bs4 import BeautifulSoup\n",
    "import datetime"
   ],
   "metadata": {
    "collapsed": false,
    "pycharm": {
     "name": "#%%\n"
    }
   }
  },
  {
   "cell_type": "code",
   "execution_count": 98,
   "outputs": [
    {
     "name": "stdout",
     "output_type": "stream",
     "text": [
      "Data: 20.03.2021 20:21\n",
      "\n",
      "Temperatura: 0°C\n",
      "\n",
      "Jutro:  5°C / -4°C\n"
     ]
    }
   ],
   "source": [
    "data = requests.get(\"https://pogoda.interia.pl/prognoza-dlugoterminowa-bydgoszcz,cId,3696\")\n",
    "html = BeautifulSoup(data.content, 'html.parser')\n",
    "class_name = 'weather-currently-temp-strict'\n",
    "temperature_now = html.find(\"div\", attrs={'class' : class_name})\n",
    "temperature_now = str(temperature_now).replace('<div class=\"weather-currently-temp-strict\">',\"\").replace(\"</div>\",\"\")\n",
    "now = datetime.datetime.now()\n",
    "now = now.strftime(\"%d.%m.%Y %H:%M\")\n",
    "print(\"Data:\", now)\n",
    "print()\n",
    "print(\"Temperatura:\", temperature_now)\n",
    "print()\n",
    "class_name_tomorrow_max = \"weather-currently-middle-forecast-temperature-max\"\n",
    "temperature_tomorrow_max = html.find(\"span\", attrs={'class': class_name_tomorrow_max})\n",
    "temperature_tomorrow_max = str(temperature_tomorrow_max).replace('<span class=\"weather-currently-middle-forecast-temperature-max\" id=\"weather-currently-middle-forecast-temperature-max-0\">', \"\").replace(\"</span>\", \"\")\n",
    "class_name_tomorrow_min = \"weather-currently-middle-forecast-temperature-min\"\n",
    "temperature_tomorrow_min = html.find(\"span\", attrs={'class': class_name_tomorrow_min})\n",
    "temperature_tomorrow_min = str(temperature_tomorrow_min).replace('<span class=\"weather-currently-middle-forecast-temperature-min\" id=\"weather-currently-middle-forecast-temperature-min-0\">', \"\").replace(\"</span>\", \"\")\n",
    "print(\"Jutro: \", temperature_tomorrow_max, \"/\", temperature_tomorrow_min)"
   ],
   "metadata": {
    "collapsed": false,
    "pycharm": {
     "name": "#%%\n"
    }
   }
  }
 ],
 "metadata": {
  "kernelspec": {
   "display_name": "Python 3",
   "language": "python",
   "name": "python3"
  },
  "language_info": {
   "codemirror_mode": {
    "name": "ipython",
    "version": 2
   },
   "file_extension": ".py",
   "mimetype": "text/x-python",
   "name": "python",
   "nbconvert_exporter": "python",
   "pygments_lexer": "ipython2",
   "version": "2.7.6"
  }
 },
 "nbformat": 4,
 "nbformat_minor": 0
}